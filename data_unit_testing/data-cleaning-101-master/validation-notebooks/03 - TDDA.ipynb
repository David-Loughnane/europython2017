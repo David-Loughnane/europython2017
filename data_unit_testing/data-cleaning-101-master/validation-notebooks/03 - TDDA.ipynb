{
 "cells": [
  {
   "cell_type": "markdown",
   "metadata": {},
   "source": [
    "## TDDA: Test-Driven Data Analysis\n",
    "\n",
    "In this notebook, we'll review a Python library: [TDDA](https://github.com/tdda/tdda), which takes data inputs (such as NumPy arrays or Pandas DataFrames) and builds a set of constraints around them. You can then save your constraints (JSON output) and test new data against observed constraints."
   ]
  },
  {
   "cell_type": "code",
   "execution_count": 2,
   "metadata": {
    "collapsed": true
   },
   "outputs": [],
   "source": [
    "import pandas as pd\n",
    "import numpy as np\n",
    "from tdda.constraints.pdconstraints import discover_constraints, verify_df"
   ]
  },
  {
   "cell_type": "code",
   "execution_count": 3,
   "metadata": {
    "collapsed": true
   },
   "outputs": [],
   "source": [
    "df = pd.read_csv('../data/iot_example.csv')"
   ]
  },
  {
   "cell_type": "markdown",
   "metadata": {},
   "source": [
    "## Basic Data Quality Check"
   ]
  },
  {
   "cell_type": "code",
   "execution_count": 4,
   "metadata": {},
   "outputs": [
    {
     "data": {
      "text/html": [
       "<div>\n",
       "<style>\n",
       "    .dataframe thead tr:only-child th {\n",
       "        text-align: right;\n",
       "    }\n",
       "\n",
       "    .dataframe thead th {\n",
       "        text-align: left;\n",
       "    }\n",
       "\n",
       "    .dataframe tbody tr th {\n",
       "        vertical-align: top;\n",
       "    }\n",
       "</style>\n",
       "<table border=\"1\" class=\"dataframe\">\n",
       "  <thead>\n",
       "    <tr style=\"text-align: right;\">\n",
       "      <th></th>\n",
       "      <th>timestamp</th>\n",
       "      <th>username</th>\n",
       "      <th>temperature</th>\n",
       "      <th>heartrate</th>\n",
       "      <th>build</th>\n",
       "      <th>latest</th>\n",
       "      <th>note</th>\n",
       "    </tr>\n",
       "  </thead>\n",
       "  <tbody>\n",
       "    <tr>\n",
       "      <th>0</th>\n",
       "      <td>2017-01-01T12:00:23</td>\n",
       "      <td>michaelsmith</td>\n",
       "      <td>12</td>\n",
       "      <td>67</td>\n",
       "      <td>4e6a7805-8faa-2768-6ef6-eb3198b483ac</td>\n",
       "      <td>0</td>\n",
       "      <td>interval</td>\n",
       "    </tr>\n",
       "    <tr>\n",
       "      <th>1</th>\n",
       "      <td>2017-01-01T12:01:09</td>\n",
       "      <td>kharrison</td>\n",
       "      <td>6</td>\n",
       "      <td>78</td>\n",
       "      <td>7256b7b0-e502-f576-62ec-ed73533c9c84</td>\n",
       "      <td>0</td>\n",
       "      <td>wake</td>\n",
       "    </tr>\n",
       "    <tr>\n",
       "      <th>2</th>\n",
       "      <td>2017-01-01T12:01:34</td>\n",
       "      <td>smithadam</td>\n",
       "      <td>5</td>\n",
       "      <td>89</td>\n",
       "      <td>9226c94b-bb4b-a6c8-8e02-cb42b53e9c90</td>\n",
       "      <td>0</td>\n",
       "      <td>n/a</td>\n",
       "    </tr>\n",
       "    <tr>\n",
       "      <th>3</th>\n",
       "      <td>2017-01-01T12:02:09</td>\n",
       "      <td>eddierodriguez</td>\n",
       "      <td>28</td>\n",
       "      <td>76</td>\n",
       "      <td>2599ac79-e5e0-5117-b8e1-57e5ced036f7</td>\n",
       "      <td>0</td>\n",
       "      <td>update</td>\n",
       "    </tr>\n",
       "    <tr>\n",
       "      <th>4</th>\n",
       "      <td>2017-01-01T12:02:36</td>\n",
       "      <td>kenneth94</td>\n",
       "      <td>29</td>\n",
       "      <td>62</td>\n",
       "      <td>122f1c6a-403c-2221-6ed1-b5caa08f11e0</td>\n",
       "      <td>0</td>\n",
       "      <td>user</td>\n",
       "    </tr>\n",
       "  </tbody>\n",
       "</table>\n",
       "</div>"
      ],
      "text/plain": [
       "             timestamp        username  temperature  heartrate  \\\n",
       "0  2017-01-01T12:00:23    michaelsmith           12         67   \n",
       "1  2017-01-01T12:01:09       kharrison            6         78   \n",
       "2  2017-01-01T12:01:34       smithadam            5         89   \n",
       "3  2017-01-01T12:02:09  eddierodriguez           28         76   \n",
       "4  2017-01-01T12:02:36       kenneth94           29         62   \n",
       "\n",
       "                                  build  latest      note  \n",
       "0  4e6a7805-8faa-2768-6ef6-eb3198b483ac       0  interval  \n",
       "1  7256b7b0-e502-f576-62ec-ed73533c9c84       0      wake  \n",
       "2  9226c94b-bb4b-a6c8-8e02-cb42b53e9c90       0       n/a  \n",
       "3  2599ac79-e5e0-5117-b8e1-57e5ced036f7       0    update  \n",
       "4  122f1c6a-403c-2221-6ed1-b5caa08f11e0       0      user  "
      ]
     },
     "execution_count": 4,
     "metadata": {},
     "output_type": "execute_result"
    }
   ],
   "source": [
    "df.head()"
   ]
  },
  {
   "cell_type": "code",
   "execution_count": 5,
   "metadata": {},
   "outputs": [
    {
     "data": {
      "text/plain": [
       "timestamp      object\n",
       "username       object\n",
       "temperature     int64\n",
       "heartrate       int64\n",
       "build          object\n",
       "latest          int64\n",
       "note           object\n",
       "dtype: object"
      ]
     },
     "execution_count": 5,
     "metadata": {},
     "output_type": "execute_result"
    }
   ],
   "source": [
    "df.dtypes"
   ]
  },
  {
   "cell_type": "markdown",
   "metadata": {},
   "source": [
    "## Use `discover_constraints` to build the constraint object"
   ]
  },
  {
   "cell_type": "code",
   "execution_count": 6,
   "metadata": {
    "collapsed": true
   },
   "outputs": [],
   "source": [
    "constraints = discover_constraints(df)"
   ]
  },
  {
   "cell_type": "code",
   "execution_count": 7,
   "metadata": {},
   "outputs": [
    {
     "data": {
      "text/plain": [
       "<tdda.constraints.base.DatasetConstraints at 0x119945828>"
      ]
     },
     "execution_count": 7,
     "metadata": {},
     "output_type": "execute_result"
    }
   ],
   "source": [
    "constraints"
   ]
  },
  {
   "cell_type": "code",
   "execution_count": 8,
   "metadata": {},
   "outputs": [
    {
     "data": {
      "text/plain": [
       "Fields([('timestamp', <tdda.constraints.base.FieldConstraints at 0x119945ba8>),\n",
       "        ('username', <tdda.constraints.base.FieldConstraints at 0x1199457f0>),\n",
       "        ('temperature',\n",
       "         <tdda.constraints.base.FieldConstraints at 0x119945d68>),\n",
       "        ('heartrate', <tdda.constraints.base.FieldConstraints at 0x119945c18>),\n",
       "        ('build', <tdda.constraints.base.FieldConstraints at 0x119ac93c8>),\n",
       "        ('latest', <tdda.constraints.base.FieldConstraints at 0x119ac9320>),\n",
       "        ('note', <tdda.constraints.base.FieldConstraints at 0x119ac94e0>)])"
      ]
     },
     "execution_count": 8,
     "metadata": {},
     "output_type": "execute_result"
    }
   ],
   "source": [
    "constraints.fields"
   ]
  },
  {
   "cell_type": "markdown",
   "metadata": {},
   "source": [
    "## Now write the constraints to a file - .tdda is esentially just a json"
   ]
  },
  {
   "cell_type": "code",
   "execution_count": 9,
   "metadata": {
    "collapsed": true
   },
   "outputs": [],
   "source": [
    "with open('../data/ignore-iot_constraints.tdda', 'w') as f:\n",
    "    f.write(constraints.to_json())"
   ]
  },
  {
   "cell_type": "code",
   "execution_count": 10,
   "metadata": {},
   "outputs": [
    {
     "name": "stdout",
     "output_type": "stream",
     "text": [
      "{\r\n",
      "    \"fields\": {\r\n",
      "        \"timestamp\": {\r\n",
      "            \"type\": \"string\",\r\n",
      "            \"min_length\": 19,\r\n",
      "            \"max_length\": 19,\r\n",
      "            \"max_nulls\": 0,\r\n",
      "            \"no_duplicates\": true\r\n",
      "        },\r\n",
      "        \"username\": {\r\n",
      "            \"type\": \"string\",\r\n",
      "            \"min_length\": 3,\r\n",
      "            \"max_length\": 21,\r\n",
      "            \"max_nulls\": 0\r\n",
      "        },\r\n",
      "        \"temperature\": {\r\n",
      "            \"type\": \"int\",\r\n",
      "            \"min\": 5,\r\n",
      "            \"max\": 29,\r\n",
      "            \"sign\": \"positive\",\r\n",
      "            \"max_nulls\": 0\r\n",
      "        },\r\n",
      "        \"heartrate\": {\r\n",
      "            \"type\": \"int\",\r\n",
      "            \"min\": 60,\r\n",
      "            \"max\": 89,\r\n",
      "            \"sign\": \"positive\",\r\n",
      "            \"max_nulls\": 0\r\n",
      "        },\r\n",
      "        \"build\": {\r\n",
      "            \"type\": \"string\",\r\n",
      "            \"min_length\": 36,\r\n",
      "            \"max_length\": 36,\r\n",
      "            \"max_nulls\": 0,\r\n",
      "            \"no_duplicates\": true\r\n",
      "        },\r\n",
      "        \"latest\": {\r\n",
      "            \"type\": \"int\",\r\n",
      "            \"min\": 0,\r\n",
      "            \"max\": 1,\r\n",
      "            \"sign\": \"non-negative\",\r\n",
      "            \"max_nulls\": 0\r\n",
      "        },\r\n",
      "        \"note\": {\r\n",
      "            \"type\": \"string\",\r\n",
      "            \"min_length\": 3,\r\n",
      "            \"max_length\": 8,\r\n",
      "            \"max_nulls\": 0,\r\n",
      "            \"allowed_values\": [\r\n",
      "                \"interval\",\r\n",
      "                \"wake\",\r\n",
      "                \"n/a\",\r\n",
      "                \"update\",\r\n",
      "                \"user\",\r\n",
      "                \"test\",\r\n",
      "                \"sleep\"\r\n",
      "            ]\r\n",
      "        }\r\n",
      "    }\r\n",
      "}\r\n"
     ]
    }
   ],
   "source": [
    "cat ../data/ignore-iot_constraints.tdda"
   ]
  },
  {
   "cell_type": "markdown",
   "metadata": {},
   "source": [
    "## Exercise: what types of constraints are being extracted? How does this compare with defining your own schema?"
   ]
  },
  {
   "cell_type": "markdown",
   "metadata": {},
   "source": [
    "### Now, let's read in our other IOT dataset :D (can anyone guess what will happen?)"
   ]
  },
  {
   "cell_type": "code",
   "execution_count": 11,
   "metadata": {
    "collapsed": true
   },
   "outputs": [],
   "source": [
    "new_df = pd.read_csv('../data/iot_example_with_nulls.csv')"
   ]
  },
  {
   "cell_type": "markdown",
   "metadata": {},
   "source": [
    "## We use `verify_df` to pass in the new dataframe, along with either the filepath to our saved constraints."
   ]
  },
  {
   "cell_type": "code",
   "execution_count": 12,
   "metadata": {
    "collapsed": true
   },
   "outputs": [],
   "source": [
    "v = verify_df(new_df, '../data/ignore-iot_constraints.tdda')"
   ]
  },
  {
   "cell_type": "markdown",
   "metadata": {},
   "source": [
    "## We can now test passes, failures and look at the output"
   ]
  },
  {
   "cell_type": "code",
   "execution_count": 13,
   "metadata": {},
   "outputs": [
    {
     "data": {
      "text/plain": [
       "30"
      ]
     },
     "execution_count": 13,
     "metadata": {},
     "output_type": "execute_result"
    }
   ],
   "source": [
    "v.passes"
   ]
  },
  {
   "cell_type": "code",
   "execution_count": 14,
   "metadata": {},
   "outputs": [
    {
     "data": {
      "text/plain": [
       "4"
      ]
     },
     "execution_count": 14,
     "metadata": {},
     "output_type": "execute_result"
    }
   ],
   "source": [
    "v.failures"
   ]
  },
  {
   "cell_type": "code",
   "execution_count": 15,
   "metadata": {},
   "outputs": [
    {
     "name": "stdout",
     "output_type": "stream",
     "text": [
      "FIELDS:\n",
      "\n",
      "timestamp: 0 failures  5 passes  type ✓  min_length ✓  max_length ✓  max_nulls ✓  no_duplicates ✓\n",
      "\n",
      "username: 0 failures  4 passes  type ✓  min_length ✓  max_length ✓  max_nulls ✓\n",
      "\n",
      "temperature: 1 failure  4 passes  type ✓  min ✓  max ✓  sign ✓  max_nulls ✗\n",
      "\n",
      "heartrate: 0 failures  5 passes  type ✓  min ✓  max ✓  sign ✓  max_nulls ✓\n",
      "\n",
      "build: 1 failure  4 passes  type ✓  min_length ✓  max_length ✓  max_nulls ✗  no_duplicates ✓\n",
      "\n",
      "latest: 1 failure  4 passes  type ✓  min ✓  max ✓  sign ✓  max_nulls ✗\n",
      "\n",
      "note: 1 failure  4 passes  type ✓  min_length ✓  max_length ✓  max_nulls ✗  allowed_values ✓\n",
      "\n",
      "SUMMARY:\n",
      "\n",
      "Passes: 30\n",
      "Failures: 4\n"
     ]
    }
   ],
   "source": [
    "print(str(v))"
   ]
  },
  {
   "cell_type": "markdown",
   "metadata": {},
   "source": [
    "## In addition, we can take a look at the passes and failures in a dataframe"
   ]
  },
  {
   "cell_type": "code",
   "execution_count": 16,
   "metadata": {},
   "outputs": [
    {
     "data": {
      "text/html": [
       "<div>\n",
       "<style>\n",
       "    .dataframe thead tr:only-child th {\n",
       "        text-align: right;\n",
       "    }\n",
       "\n",
       "    .dataframe thead th {\n",
       "        text-align: left;\n",
       "    }\n",
       "\n",
       "    .dataframe tbody tr th {\n",
       "        vertical-align: top;\n",
       "    }\n",
       "</style>\n",
       "<table border=\"1\" class=\"dataframe\">\n",
       "  <thead>\n",
       "    <tr style=\"text-align: right;\">\n",
       "      <th></th>\n",
       "      <th>field</th>\n",
       "      <th>failures</th>\n",
       "      <th>passes</th>\n",
       "      <th>type</th>\n",
       "      <th>min</th>\n",
       "      <th>min_length</th>\n",
       "      <th>max</th>\n",
       "      <th>max_length</th>\n",
       "      <th>sign</th>\n",
       "      <th>max_nulls</th>\n",
       "      <th>no_duplicates</th>\n",
       "      <th>allowed_values</th>\n",
       "    </tr>\n",
       "  </thead>\n",
       "  <tbody>\n",
       "    <tr>\n",
       "      <th>0</th>\n",
       "      <td>timestamp</td>\n",
       "      <td>0</td>\n",
       "      <td>5</td>\n",
       "      <td>True</td>\n",
       "      <td>NaN</td>\n",
       "      <td>True</td>\n",
       "      <td>NaN</td>\n",
       "      <td>True</td>\n",
       "      <td>NaN</td>\n",
       "      <td>True</td>\n",
       "      <td>True</td>\n",
       "      <td>NaN</td>\n",
       "    </tr>\n",
       "    <tr>\n",
       "      <th>1</th>\n",
       "      <td>username</td>\n",
       "      <td>0</td>\n",
       "      <td>4</td>\n",
       "      <td>True</td>\n",
       "      <td>NaN</td>\n",
       "      <td>True</td>\n",
       "      <td>NaN</td>\n",
       "      <td>True</td>\n",
       "      <td>NaN</td>\n",
       "      <td>True</td>\n",
       "      <td>NaN</td>\n",
       "      <td>NaN</td>\n",
       "    </tr>\n",
       "    <tr>\n",
       "      <th>2</th>\n",
       "      <td>temperature</td>\n",
       "      <td>1</td>\n",
       "      <td>4</td>\n",
       "      <td>True</td>\n",
       "      <td>True</td>\n",
       "      <td>NaN</td>\n",
       "      <td>True</td>\n",
       "      <td>NaN</td>\n",
       "      <td>True</td>\n",
       "      <td>False</td>\n",
       "      <td>NaN</td>\n",
       "      <td>NaN</td>\n",
       "    </tr>\n",
       "    <tr>\n",
       "      <th>3</th>\n",
       "      <td>heartrate</td>\n",
       "      <td>0</td>\n",
       "      <td>5</td>\n",
       "      <td>True</td>\n",
       "      <td>True</td>\n",
       "      <td>NaN</td>\n",
       "      <td>True</td>\n",
       "      <td>NaN</td>\n",
       "      <td>True</td>\n",
       "      <td>True</td>\n",
       "      <td>NaN</td>\n",
       "      <td>NaN</td>\n",
       "    </tr>\n",
       "    <tr>\n",
       "      <th>4</th>\n",
       "      <td>build</td>\n",
       "      <td>1</td>\n",
       "      <td>4</td>\n",
       "      <td>True</td>\n",
       "      <td>NaN</td>\n",
       "      <td>True</td>\n",
       "      <td>NaN</td>\n",
       "      <td>True</td>\n",
       "      <td>NaN</td>\n",
       "      <td>False</td>\n",
       "      <td>True</td>\n",
       "      <td>NaN</td>\n",
       "    </tr>\n",
       "    <tr>\n",
       "      <th>5</th>\n",
       "      <td>latest</td>\n",
       "      <td>1</td>\n",
       "      <td>4</td>\n",
       "      <td>True</td>\n",
       "      <td>True</td>\n",
       "      <td>NaN</td>\n",
       "      <td>True</td>\n",
       "      <td>NaN</td>\n",
       "      <td>True</td>\n",
       "      <td>False</td>\n",
       "      <td>NaN</td>\n",
       "      <td>NaN</td>\n",
       "    </tr>\n",
       "    <tr>\n",
       "      <th>6</th>\n",
       "      <td>note</td>\n",
       "      <td>1</td>\n",
       "      <td>4</td>\n",
       "      <td>True</td>\n",
       "      <td>NaN</td>\n",
       "      <td>True</td>\n",
       "      <td>NaN</td>\n",
       "      <td>True</td>\n",
       "      <td>NaN</td>\n",
       "      <td>False</td>\n",
       "      <td>NaN</td>\n",
       "      <td>True</td>\n",
       "    </tr>\n",
       "  </tbody>\n",
       "</table>\n",
       "</div>"
      ],
      "text/plain": [
       "         field  failures  passes  type   min min_length   max max_length  \\\n",
       "0    timestamp         0       5  True   NaN       True   NaN       True   \n",
       "1     username         0       4  True   NaN       True   NaN       True   \n",
       "2  temperature         1       4  True  True        NaN  True        NaN   \n",
       "3    heartrate         0       5  True  True        NaN  True        NaN   \n",
       "4        build         1       4  True   NaN       True   NaN       True   \n",
       "5       latest         1       4  True  True        NaN  True        NaN   \n",
       "6         note         1       4  True   NaN       True   NaN       True   \n",
       "\n",
       "   sign  max_nulls no_duplicates allowed_values  \n",
       "0   NaN       True          True            NaN  \n",
       "1   NaN       True           NaN            NaN  \n",
       "2  True      False           NaN            NaN  \n",
       "3  True       True           NaN            NaN  \n",
       "4   NaN      False          True            NaN  \n",
       "5  True      False           NaN            NaN  \n",
       "6   NaN      False           NaN           True  "
      ]
     },
     "execution_count": 16,
     "metadata": {},
     "output_type": "execute_result"
    }
   ],
   "source": [
    "v.to_frame()"
   ]
  },
  {
   "cell_type": "markdown",
   "metadata": {},
   "source": [
    "## Exercise: How could we fix the schema or separate data so all tests pass?"
   ]
  },
  {
   "cell_type": "code",
   "execution_count": null,
   "metadata": {
    "collapsed": true
   },
   "outputs": [],
   "source": []
  },
  {
   "cell_type": "code",
   "execution_count": null,
   "metadata": {
    "collapsed": true
   },
   "outputs": [],
   "source": []
  }
 ],
 "metadata": {
  "kernelspec": {
   "display_name": "Python 3",
   "language": "python",
   "name": "python3"
  },
  "language_info": {
   "codemirror_mode": {
    "name": "ipython",
    "version": 3
   },
   "file_extension": ".py",
   "mimetype": "text/x-python",
   "name": "python",
   "nbconvert_exporter": "python",
   "pygments_lexer": "ipython3",
   "version": "3.6.1"
  }
 },
 "nbformat": 4,
 "nbformat_minor": 2
}
