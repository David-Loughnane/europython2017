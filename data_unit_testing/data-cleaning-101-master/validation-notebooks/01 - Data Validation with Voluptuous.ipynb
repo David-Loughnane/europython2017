{
 "cells": [
  {
   "cell_type": "markdown",
   "metadata": {},
   "source": [
    "## Data Validation with Voluptuous (Schema Definitions)\n",
    "\n",
    "In this notebook, we'll use [Voluptuous](https://github.com/alecthomas/voluptuous) to define schemas for our data. We can then use schema checking at different points in our cleanup to ensure we meet criteria. We can then use schema validation exceptions to either mark, set aside or remove unclean / invalid data. "
   ]
  },
  {
   "cell_type": "code",
   "execution_count": 1,
   "metadata": {
    "collapsed": true
   },
   "outputs": [],
   "source": [
    "import logging\n",
    "import pandas as pd\n",
    "from datetime import datetime\n",
    "from voluptuous import Schema, Required, Range, All, ALLOW_EXTRA\n",
    "from voluptuous.error import MultipleInvalid, Invalid"
   ]
  },
  {
   "cell_type": "code",
   "execution_count": 2,
   "metadata": {
    "collapsed": true
   },
   "outputs": [],
   "source": [
    "logger = logging.getLogger(0)\n",
    "logger.setLevel(logging.WARNING)"
   ]
  },
  {
   "cell_type": "code",
   "execution_count": 3,
   "metadata": {
    "collapsed": true
   },
   "outputs": [],
   "source": [
    "sales = pd.read_csv('../data/sales_data.csv')"
   ]
  },
  {
   "cell_type": "markdown",
   "metadata": {},
   "source": [
    "### Data Quality Check"
   ]
  },
  {
   "cell_type": "code",
   "execution_count": 4,
   "metadata": {},
   "outputs": [
    {
     "data": {
      "text/html": [
       "<div>\n",
       "<style>\n",
       "    .dataframe thead tr:only-child th {\n",
       "        text-align: right;\n",
       "    }\n",
       "\n",
       "    .dataframe thead th {\n",
       "        text-align: left;\n",
       "    }\n",
       "\n",
       "    .dataframe tbody tr th {\n",
       "        vertical-align: top;\n",
       "    }\n",
       "</style>\n",
       "<table border=\"1\" class=\"dataframe\">\n",
       "  <thead>\n",
       "    <tr style=\"text-align: right;\">\n",
       "      <th></th>\n",
       "      <th>timestamp</th>\n",
       "      <th>city</th>\n",
       "      <th>store_id</th>\n",
       "      <th>sale_number</th>\n",
       "      <th>sale_amount</th>\n",
       "      <th>associate</th>\n",
       "    </tr>\n",
       "  </thead>\n",
       "  <tbody>\n",
       "    <tr>\n",
       "      <th>0</th>\n",
       "      <td>2017-02-19T17:00:00</td>\n",
       "      <td>Stephanieport</td>\n",
       "      <td>11</td>\n",
       "      <td>2162</td>\n",
       "      <td>247.0</td>\n",
       "      <td>Jenna White</td>\n",
       "    </tr>\n",
       "    <tr>\n",
       "      <th>1</th>\n",
       "      <td>2017-02-19T22:00:00</td>\n",
       "      <td>Gutierreztown</td>\n",
       "      <td>11</td>\n",
       "      <td>754</td>\n",
       "      <td>1586.0</td>\n",
       "      <td>Laura Massey</td>\n",
       "    </tr>\n",
       "    <tr>\n",
       "      <th>2</th>\n",
       "      <td>2017-02-20T01:00:00</td>\n",
       "      <td>Colemanside</td>\n",
       "      <td>3</td>\n",
       "      <td>2858</td>\n",
       "      <td>631.0</td>\n",
       "      <td>Jacqueline Benson</td>\n",
       "    </tr>\n",
       "    <tr>\n",
       "      <th>3</th>\n",
       "      <td>2017-02-20T08:00:00</td>\n",
       "      <td>Harriston</td>\n",
       "      <td>1</td>\n",
       "      <td>1080</td>\n",
       "      <td>-161.0</td>\n",
       "      <td>Tina Martin</td>\n",
       "    </tr>\n",
       "    <tr>\n",
       "      <th>4</th>\n",
       "      <td>2017-02-20T13:00:00</td>\n",
       "      <td>Lake Fernandoton</td>\n",
       "      <td>1</td>\n",
       "      <td>358</td>\n",
       "      <td>1414.0</td>\n",
       "      <td>David Khan</td>\n",
       "    </tr>\n",
       "  </tbody>\n",
       "</table>\n",
       "</div>"
      ],
      "text/plain": [
       "             timestamp              city  store_id  sale_number  sale_amount  \\\n",
       "0  2017-02-19T17:00:00     Stephanieport        11         2162        247.0   \n",
       "1  2017-02-19T22:00:00     Gutierreztown        11          754       1586.0   \n",
       "2  2017-02-20T01:00:00       Colemanside         3         2858        631.0   \n",
       "3  2017-02-20T08:00:00         Harriston         1         1080       -161.0   \n",
       "4  2017-02-20T13:00:00  Lake Fernandoton         1          358       1414.0   \n",
       "\n",
       "           associate  \n",
       "0        Jenna White  \n",
       "1       Laura Massey  \n",
       "2  Jacqueline Benson  \n",
       "3        Tina Martin  \n",
       "4         David Khan  "
      ]
     },
     "execution_count": 4,
     "metadata": {},
     "output_type": "execute_result"
    }
   ],
   "source": [
    "sales.head()"
   ]
  },
  {
   "cell_type": "code",
   "execution_count": 5,
   "metadata": {},
   "outputs": [
    {
     "data": {
      "text/plain": [
       "timestamp       object\n",
       "city            object\n",
       "store_id         int64\n",
       "sale_number      int64\n",
       "sale_amount    float64\n",
       "associate       object\n",
       "dtype: object"
      ]
     },
     "execution_count": 5,
     "metadata": {},
     "output_type": "execute_result"
    }
   ],
   "source": [
    "sales.dtypes"
   ]
  },
  {
   "cell_type": "markdown",
   "metadata": {},
   "source": [
    "## Defining our first schema"
   ]
  },
  {
   "cell_type": "code",
   "execution_count": 6,
   "metadata": {
    "collapsed": true
   },
   "outputs": [],
   "source": [
    "schema = Schema({\n",
    "    # sale amount is required, and for all of them I expect them to be floats in the rand min to max\n",
    "    Required('sale_amount'): All(float, Range(min=2.50, max=1450.99)),\n",
    "    #\n",
    "}, extra=ALLOW_EXTRA)"
   ]
  },
  {
   "cell_type": "code",
   "execution_count": 7,
   "metadata": {},
   "outputs": [
    {
     "name": "stderr",
     "output_type": "stream",
     "text": [
      "WARNING:root:issue with sale: 1 (1586.0) - value must be at most 1450.99 for dictionary value @ data['sale_amount']\n",
      "WARNING:root:issue with sale: 3 (-161.0) - value must be at least 2.5 for dictionary value @ data['sale_amount']\n",
      "WARNING:root:issue with sale: 7 (1584.0) - value must be at most 1450.99 for dictionary value @ data['sale_amount']\n",
      "WARNING:root:issue with sale: 10 (1537.0) - value must be at most 1450.99 for dictionary value @ data['sale_amount']\n",
      "WARNING:root:issue with sale: 11 (1461.0) - value must be at most 1450.99 for dictionary value @ data['sale_amount']\n",
      "WARNING:root:issue with sale: 16 (-104.0) - value must be at least 2.5 for dictionary value @ data['sale_amount']\n",
      "WARNING:root:issue with sale: 20 (-338.0) - value must be at least 2.5 for dictionary value @ data['sale_amount']\n",
      "WARNING:root:issue with sale: 24 (-207.0) - value must be at least 2.5 for dictionary value @ data['sale_amount']\n",
      "WARNING:root:issue with sale: 25 (1481.0) - value must be at most 1450.99 for dictionary value @ data['sale_amount']\n",
      "WARNING:root:issue with sale: 26 (1562.0) - value must be at most 1450.99 for dictionary value @ data['sale_amount']\n",
      "WARNING:root:issue with sale: 27 (-45.0) - value must be at least 2.5 for dictionary value @ data['sale_amount']\n",
      "WARNING:root:issue with sale: 31 (1516.0) - value must be at most 1450.99 for dictionary value @ data['sale_amount']\n",
      "WARNING:root:issue with sale: 40 (1538.0) - value must be at most 1450.99 for dictionary value @ data['sale_amount']\n",
      "WARNING:root:issue with sale: 47 (1598.0) - value must be at most 1450.99 for dictionary value @ data['sale_amount']\n",
      "WARNING:root:issue with sale: 57 (1596.0) - value must be at most 1450.99 for dictionary value @ data['sale_amount']\n",
      "WARNING:root:issue with sale: 58 (1488.0) - value must be at most 1450.99 for dictionary value @ data['sale_amount']\n",
      "WARNING:root:issue with sale: 61 (-418.0) - value must be at least 2.5 for dictionary value @ data['sale_amount']\n",
      "WARNING:root:issue with sale: 62 (-221.0) - value must be at least 2.5 for dictionary value @ data['sale_amount']\n",
      "WARNING:root:issue with sale: 63 (-5.0) - value must be at least 2.5 for dictionary value @ data['sale_amount']\n",
      "WARNING:root:issue with sale: 65 (-473.0) - value must be at least 2.5 for dictionary value @ data['sale_amount']\n",
      "WARNING:root:issue with sale: 66 (-317.0) - value must be at least 2.5 for dictionary value @ data['sale_amount']\n",
      "WARNING:root:issue with sale: 73 (-282.0) - value must be at least 2.5 for dictionary value @ data['sale_amount']\n",
      "WARNING:root:issue with sale: 74 (-275.0) - value must be at least 2.5 for dictionary value @ data['sale_amount']\n",
      "WARNING:root:issue with sale: 77 (-14.0) - value must be at least 2.5 for dictionary value @ data['sale_amount']\n",
      "WARNING:root:issue with sale: 80 (-174.0) - value must be at least 2.5 for dictionary value @ data['sale_amount']\n",
      "WARNING:root:issue with sale: 82 (-77.0) - value must be at least 2.5 for dictionary value @ data['sale_amount']\n",
      "WARNING:root:issue with sale: 89 (-414.0) - value must be at least 2.5 for dictionary value @ data['sale_amount']\n",
      "WARNING:root:issue with sale: 94 (-328.0) - value must be at least 2.5 for dictionary value @ data['sale_amount']\n",
      "WARNING:root:issue with sale: 95 (-365.0) - value must be at least 2.5 for dictionary value @ data['sale_amount']\n",
      "WARNING:root:issue with sale: 98 (-432.0) - value must be at least 2.5 for dictionary value @ data['sale_amount']\n",
      "WARNING:root:issue with sale: 99 (-467.0) - value must be at least 2.5 for dictionary value @ data['sale_amount']\n",
      "WARNING:root:issue with sale: 104 (-185.0) - value must be at least 2.5 for dictionary value @ data['sale_amount']\n",
      "WARNING:root:issue with sale: 119 (-431.0) - value must be at least 2.5 for dictionary value @ data['sale_amount']\n",
      "WARNING:root:issue with sale: 124 (-111.0) - value must be at least 2.5 for dictionary value @ data['sale_amount']\n",
      "WARNING:root:issue with sale: 131 (-171.0) - value must be at least 2.5 for dictionary value @ data['sale_amount']\n",
      "WARNING:root:issue with sale: 133 (-19.0) - value must be at least 2.5 for dictionary value @ data['sale_amount']\n",
      "WARNING:root:issue with sale: 134 (-54.0) - value must be at least 2.5 for dictionary value @ data['sale_amount']\n",
      "WARNING:root:issue with sale: 135 (-230.0) - value must be at least 2.5 for dictionary value @ data['sale_amount']\n",
      "WARNING:root:issue with sale: 137 (-443.0) - value must be at least 2.5 for dictionary value @ data['sale_amount']\n",
      "WARNING:root:issue with sale: 142 (-36.0) - value must be at least 2.5 for dictionary value @ data['sale_amount']\n",
      "WARNING:root:issue with sale: 144 (-372.0) - value must be at least 2.5 for dictionary value @ data['sale_amount']\n",
      "WARNING:root:issue with sale: 147 (1472.0) - value must be at most 1450.99 for dictionary value @ data['sale_amount']\n",
      "WARNING:root:issue with sale: 151 (-309.0) - value must be at least 2.5 for dictionary value @ data['sale_amount']\n",
      "WARNING:root:issue with sale: 153 (1457.0) - value must be at most 1450.99 for dictionary value @ data['sale_amount']\n",
      "WARNING:root:issue with sale: 154 (-236.0) - value must be at least 2.5 for dictionary value @ data['sale_amount']\n",
      "WARNING:root:issue with sale: 157 (-319.0) - value must be at least 2.5 for dictionary value @ data['sale_amount']\n",
      "WARNING:root:issue with sale: 168 (-274.0) - value must be at least 2.5 for dictionary value @ data['sale_amount']\n",
      "WARNING:root:issue with sale: 169 (1583.0) - value must be at most 1450.99 for dictionary value @ data['sale_amount']\n",
      "WARNING:root:issue with sale: 173 (-262.0) - value must be at least 2.5 for dictionary value @ data['sale_amount']\n",
      "WARNING:root:issue with sale: 176 (1501.0) - value must be at most 1450.99 for dictionary value @ data['sale_amount']\n",
      "WARNING:root:issue with sale: 182 (-88.0) - value must be at least 2.5 for dictionary value @ data['sale_amount']\n",
      "WARNING:root:issue with sale: 184 (-264.0) - value must be at least 2.5 for dictionary value @ data['sale_amount']\n",
      "WARNING:root:issue with sale: 189 (-392.0) - value must be at least 2.5 for dictionary value @ data['sale_amount']\n",
      "WARNING:root:issue with sale: 191 (-177.0) - value must be at least 2.5 for dictionary value @ data['sale_amount']\n",
      "WARNING:root:issue with sale: 193 (-298.0) - value must be at least 2.5 for dictionary value @ data['sale_amount']\n",
      "WARNING:root:issue with sale: 196 (-427.0) - value must be at least 2.5 for dictionary value @ data['sale_amount']\n",
      "WARNING:root:issue with sale: 198 (-297.0) - value must be at least 2.5 for dictionary value @ data['sale_amount']\n",
      "WARNING:root:issue with sale: 206 (-225.0) - value must be at least 2.5 for dictionary value @ data['sale_amount']\n",
      "WARNING:root:issue with sale: 207 (-34.0) - value must be at least 2.5 for dictionary value @ data['sale_amount']\n",
      "WARNING:root:issue with sale: 210 (-464.0) - value must be at least 2.5 for dictionary value @ data['sale_amount']\n",
      "WARNING:root:issue with sale: 214 (-97.0) - value must be at least 2.5 for dictionary value @ data['sale_amount']\n",
      "WARNING:root:issue with sale: 215 (-117.0) - value must be at least 2.5 for dictionary value @ data['sale_amount']\n",
      "WARNING:root:issue with sale: 216 (-122.0) - value must be at least 2.5 for dictionary value @ data['sale_amount']\n",
      "WARNING:root:issue with sale: 217 (-264.0) - value must be at least 2.5 for dictionary value @ data['sale_amount']\n",
      "WARNING:root:issue with sale: 218 (-37.0) - value must be at least 2.5 for dictionary value @ data['sale_amount']\n",
      "WARNING:root:issue with sale: 219 (-246.0) - value must be at least 2.5 for dictionary value @ data['sale_amount']\n",
      "WARNING:root:issue with sale: 221 (1536.0) - value must be at most 1450.99 for dictionary value @ data['sale_amount']\n",
      "WARNING:root:issue with sale: 228 (-225.0) - value must be at least 2.5 for dictionary value @ data['sale_amount']\n",
      "WARNING:root:issue with sale: 239 (-250.0) - value must be at least 2.5 for dictionary value @ data['sale_amount']\n",
      "WARNING:root:issue with sale: 244 (-17.0) - value must be at least 2.5 for dictionary value @ data['sale_amount']\n",
      "WARNING:root:issue with sale: 246 (-117.0) - value must be at least 2.5 for dictionary value @ data['sale_amount']\n",
      "WARNING:root:issue with sale: 252 (-107.0) - value must be at least 2.5 for dictionary value @ data['sale_amount']\n",
      "WARNING:root:issue with sale: 256 (-171.0) - value must be at least 2.5 for dictionary value @ data['sale_amount']\n",
      "WARNING:root:issue with sale: 258 (-489.0) - value must be at least 2.5 for dictionary value @ data['sale_amount']\n",
      "WARNING:root:issue with sale: 261 (-77.0) - value must be at least 2.5 for dictionary value @ data['sale_amount']\n",
      "WARNING:root:issue with sale: 263 (-178.0) - value must be at least 2.5 for dictionary value @ data['sale_amount']\n",
      "WARNING:root:issue with sale: 270 (1535.0) - value must be at most 1450.99 for dictionary value @ data['sale_amount']\n",
      "WARNING:root:issue with sale: 273 (-236.0) - value must be at least 2.5 for dictionary value @ data['sale_amount']\n",
      "WARNING:root:issue with sale: 274 (-154.0) - value must be at least 2.5 for dictionary value @ data['sale_amount']\n",
      "WARNING:root:issue with sale: 276 (-368.0) - value must be at least 2.5 for dictionary value @ data['sale_amount']\n",
      "WARNING:root:issue with sale: 281 (-468.0) - value must be at least 2.5 for dictionary value @ data['sale_amount']\n",
      "WARNING:root:issue with sale: 282 (-446.0) - value must be at least 2.5 for dictionary value @ data['sale_amount']\n",
      "WARNING:root:issue with sale: 284 (1498.0) - value must be at most 1450.99 for dictionary value @ data['sale_amount']\n",
      "WARNING:root:issue with sale: 287 (-54.0) - value must be at least 2.5 for dictionary value @ data['sale_amount']\n",
      "WARNING:root:issue with sale: 289 (-483.0) - value must be at least 2.5 for dictionary value @ data['sale_amount']\n",
      "WARNING:root:issue with sale: 292 (1523.0) - value must be at most 1450.99 for dictionary value @ data['sale_amount']\n",
      "WARNING:root:issue with sale: 296 (-387.0) - value must be at least 2.5 for dictionary value @ data['sale_amount']\n",
      "WARNING:root:issue with sale: 298 (-144.0) - value must be at least 2.5 for dictionary value @ data['sale_amount']\n",
      "WARNING:root:issue with sale: 300 (1511.0) - value must be at most 1450.99 for dictionary value @ data['sale_amount']\n",
      "WARNING:root:issue with sale: 304 (-168.0) - value must be at least 2.5 for dictionary value @ data['sale_amount']\n",
      "WARNING:root:issue with sale: 306 (1570.0) - value must be at most 1450.99 for dictionary value @ data['sale_amount']\n",
      "WARNING:root:issue with sale: 308 (1585.0) - value must be at most 1450.99 for dictionary value @ data['sale_amount']\n",
      "WARNING:root:issue with sale: 310 (-77.0) - value must be at least 2.5 for dictionary value @ data['sale_amount']\n",
      "WARNING:root:issue with sale: 312 (-451.0) - value must be at least 2.5 for dictionary value @ data['sale_amount']\n",
      "WARNING:root:issue with sale: 314 (1560.0) - value must be at most 1450.99 for dictionary value @ data['sale_amount']\n",
      "WARNING:root:issue with sale: 315 (-190.0) - value must be at least 2.5 for dictionary value @ data['sale_amount']\n",
      "WARNING:root:issue with sale: 317 (1466.0) - value must be at most 1450.99 for dictionary value @ data['sale_amount']\n",
      "WARNING:root:issue with sale: 327 (-420.0) - value must be at least 2.5 for dictionary value @ data['sale_amount']\n",
      "WARNING:root:issue with sale: 328 (-359.0) - value must be at least 2.5 for dictionary value @ data['sale_amount']\n",
      "WARNING:root:issue with sale: 334 (-58.0) - value must be at least 2.5 for dictionary value @ data['sale_amount']\n",
      "WARNING:root:issue with sale: 336 (-226.0) - value must be at least 2.5 for dictionary value @ data['sale_amount']\n",
      "WARNING:root:issue with sale: 338 (1476.0) - value must be at most 1450.99 for dictionary value @ data['sale_amount']\n",
      "WARNING:root:issue with sale: 344 (-21.0) - value must be at least 2.5 for dictionary value @ data['sale_amount']\n",
      "WARNING:root:issue with sale: 347 (-175.0) - value must be at least 2.5 for dictionary value @ data['sale_amount']\n",
      "WARNING:root:issue with sale: 348 (-136.0) - value must be at least 2.5 for dictionary value @ data['sale_amount']\n",
      "WARNING:root:issue with sale: 354 (-171.0) - value must be at least 2.5 for dictionary value @ data['sale_amount']\n",
      "WARNING:root:issue with sale: 358 (-120.0) - value must be at least 2.5 for dictionary value @ data['sale_amount']\n",
      "WARNING:root:issue with sale: 360 (-414.0) - value must be at least 2.5 for dictionary value @ data['sale_amount']\n",
      "WARNING:root:issue with sale: 361 (-74.0) - value must be at least 2.5 for dictionary value @ data['sale_amount']\n",
      "WARNING:root:issue with sale: 365 (-86.0) - value must be at least 2.5 for dictionary value @ data['sale_amount']\n"
     ]
    }
   ],
   "source": [
    "error_count = 0\n",
    "for s_id, sale in sales.T.to_dict().items():\n",
    "    try:\n",
    "        schema(sale)\n",
    "    except MultipleInvalid as e:\n",
    "        logging.warning('issue with sale: %s (%s) - %s', s_id, sale['sale_amount'], e)\n",
    "        error_count += 1"
   ]
  },
  {
   "cell_type": "code",
   "execution_count": 8,
   "metadata": {},
   "outputs": [
    {
     "data": {
      "text/plain": [
       "110"
      ]
     },
     "execution_count": 8,
     "metadata": {},
     "output_type": "execute_result"
    }
   ],
   "source": [
    "error_count"
   ]
  },
  {
   "cell_type": "code",
   "execution_count": 9,
   "metadata": {},
   "outputs": [
    {
     "data": {
      "text/plain": [
       "(369, 6)"
      ]
     },
     "execution_count": 9,
     "metadata": {},
     "output_type": "execute_result"
    }
   ],
   "source": [
    "sales.shape"
   ]
  },
  {
   "cell_type": "markdown",
   "metadata": {},
   "source": [
    "### Questions we might want to answer:\n",
    "- Do we have an improperly defined schema?\n",
    "- Are negative values possibly returns or falsely marked? (data entry proceedures)\n",
    "- Are higher values combined purchases or special sales? (or potentially fraud?)\n",
    "- What should we do with our schema and our failing data points?"
   ]
  },
  {
   "cell_type": "markdown",
   "metadata": {},
   "source": [
    "### Adding a custom Validation Case"
   ]
  },
  {
   "cell_type": "code",
   "execution_count": 10,
   "metadata": {
    "collapsed": true
   },
   "outputs": [],
   "source": [
    "def ValidDate(fmt='%Y-%m-%dT%H:%M:%S'):\n",
    "    return lambda v: datetime.strptime(v, fmt)"
   ]
  },
  {
   "cell_type": "code",
   "execution_count": 11,
   "metadata": {
    "collapsed": true
   },
   "outputs": [],
   "source": [
    "schema = Schema({\n",
    "    Required('timestamp'): All(ValidDate()),\n",
    "}, extra=ALLOW_EXTRA)"
   ]
  },
  {
   "cell_type": "code",
   "execution_count": 12,
   "metadata": {
    "collapsed": true
   },
   "outputs": [],
   "source": [
    "error_count = 0\n",
    "for s_id, sale in sales.T.to_dict().items():\n",
    "    try:\n",
    "        schema(sale)\n",
    "    except MultipleInvalid as e:\n",
    "        logging.warning('issue with sale: %s (%s) - %s', s_id, sale['timestamp'], e)\n",
    "        error_count += 1"
   ]
  },
  {
   "cell_type": "code",
   "execution_count": 13,
   "metadata": {},
   "outputs": [
    {
     "data": {
      "text/plain": [
       "0"
      ]
     },
     "execution_count": 13,
     "metadata": {},
     "output_type": "execute_result"
    }
   ],
   "source": [
    "error_count"
   ]
  },
  {
   "cell_type": "markdown",
   "metadata": {},
   "source": [
    "## So we have valid date structures, what about actual valid dates?"
   ]
  },
  {
   "cell_type": "code",
   "execution_count": 14,
   "metadata": {
    "collapsed": true
   },
   "outputs": [],
   "source": [
    "def ValidDate(fmt='%Y-%m-%dT%H:%M:%S'):\n",
    "    def validation_func(v):\n",
    "        try:\n",
    "            assert datetime.strptime(v, fmt) <= datetime.now()\n",
    "        except AssertionError:\n",
    "            raise Invalid('date is in the future! %s' % v)\n",
    "    return validation_func"
   ]
  },
  {
   "cell_type": "code",
   "execution_count": 15,
   "metadata": {
    "collapsed": true
   },
   "outputs": [],
   "source": [
    "schema = Schema({\n",
    "    Required('timestamp'): All(ValidDate()),\n",
    "}, extra=ALLOW_EXTRA)"
   ]
  },
  {
   "cell_type": "code",
   "execution_count": 16,
   "metadata": {},
   "outputs": [],
   "source": [
    "error_count = 0\n",
    "for s_id, sale in sales.T.to_dict().items():\n",
    "    try:\n",
    "        schema(sale)\n",
    "    except MultipleInvalid as e:\n",
    "        logging.warning('issue with sale: %s (%s) - %s', s_id, sale['timestamp'], e)\n",
    "        error_count += 1"
   ]
  },
  {
   "cell_type": "code",
   "execution_count": 17,
   "metadata": {},
   "outputs": [
    {
     "data": {
      "text/plain": [
       "0"
      ]
     },
     "execution_count": 17,
     "metadata": {},
     "output_type": "execute_result"
    }
   ],
   "source": [
    "error_count"
   ]
  },
  {
   "cell_type": "markdown",
   "metadata": {},
   "source": [
    "## Exercise: what are some possible reasons for future dates? What should we do with the data and schema?"
   ]
  },
  {
   "cell_type": "code",
   "execution_count": null,
   "metadata": {
    "collapsed": true
   },
   "outputs": [],
   "source": []
  }
 ],
 "metadata": {
  "kernelspec": {
   "display_name": "Python 3",
   "language": "python",
   "name": "python3"
  },
  "language_info": {
   "codemirror_mode": {
    "name": "ipython",
    "version": 3
   },
   "file_extension": ".py",
   "mimetype": "text/x-python",
   "name": "python",
   "nbconvert_exporter": "python",
   "pygments_lexer": "ipython3",
   "version": "3.6.1"
  }
 },
 "nbformat": 4,
 "nbformat_minor": 2
}
