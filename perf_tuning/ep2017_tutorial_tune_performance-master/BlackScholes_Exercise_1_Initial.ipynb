{
 "cells": [
  {
   "cell_type": "markdown",
   "metadata": {},
   "source": [
    "# Black Scholes Exercise 1: Naive implementation\n",
    "\n",
    "- Use cProfile and Line Profiler to look for bottlenecks and hotspots in the code"
   ]
  },
  {
   "cell_type": "code",
   "execution_count": 13,
   "metadata": {
    "collapsed": false
   },
   "outputs": [
    {
     "name": "stdout",
     "output_type": "stream",
     "text": [
      "The line_profiler extension is already loaded. To reload it, use:\n",
      "  %reload_ext line_profiler\n"
     ]
    }
   ],
   "source": [
    "# Boilerplate for the example\n",
    "\n",
    "import cProfile\n",
    "import pstats\n",
    "%load_ext line_profiler\n",
    "\n",
    "try:\n",
    "    import numpy.random_intel as rnd\n",
    "except:\n",
    "    import numpy.random as rnd\n",
    "\n",
    "# make xrange available in python 3\n",
    "try:\n",
    "    xrange\n",
    "except NameError:\n",
    "    xrange = range\n",
    "\n",
    "SEED = 7_777_777\n",
    "S0L = 10.0\n",
    "S0H = 50.0\n",
    "XL = 10.0\n",
    "XH = 50.0\n",
    "TL = 1.0\n",
    "TH = 2.0\n",
    "RISK_FREE = 0.1\n",
    "VOLATILITY = 0.2\n",
    "TEST_ARRAY_LENGTH = 1024\n",
    "\n",
    "###############################################\n",
    "\n",
    "def gen_data(nopt):\n",
    "    return (\n",
    "        rnd.uniform(S0L, S0H, nopt),\n",
    "        rnd.uniform(XL, XH, nopt),\n",
    "        rnd.uniform(TL, TH, nopt),\n",
    "        )\n",
    "\n",
    "nopt=100_000\n",
    "price, strike, t = gen_data(nopt)\n",
    "call = [0.0 for i in range(nopt)]\n",
    "put = [-1.0 for i in range(nopt)]\n",
    "price=list(price)\n",
    "strike=list(strike)\n",
    "t=list(t)"
   ]
  },
  {
   "cell_type": "markdown",
   "metadata": {},
   "source": [
    "# The Naive Black Scholes algorithm (looped)"
   ]
  },
  {
   "cell_type": "code",
   "execution_count": 14,
   "metadata": {
    "collapsed": true
   },
   "outputs": [],
   "source": [
    "from math import log, sqrt, exp, erf\n",
    "import numpy as np\n",
    "invsqrt = lambda x: 1.0/sqrt(x)\n",
    "\n",
    "def black_scholes ( nopt, price, strike, t, rate, vol, call, put ):\n",
    "    mr = -rate\n",
    "    sig_sig_two = vol * vol * 2\n",
    "    \n",
    "    for i in range(nopt):\n",
    "        P = float( price [i] )\n",
    "        S = strike [i]\n",
    "        T = t [i]\n",
    "        \n",
    "        a = log(P / S)\n",
    "        b = T * mr\n",
    "        \n",
    "        z = T * sig_sig_two\n",
    "        c = 0.25 * z\n",
    "        y = invsqrt(z)\n",
    "        \n",
    "        w1 = (a - b + c) * y\n",
    "        w2 = (a - b - c) * y\n",
    "        \n",
    "        d1 = 0.5 + 0.5 * erf(w1)\n",
    "        d2 = 0.5 + 0.5 * erf(w2)\n",
    "        \n",
    "        Se = exp(b) * S\n",
    "        \n",
    "        call [i] = P * d1 - Se * d2\n",
    "        put [i] = call [i] - P + Se"
   ]
  },
  {
   "cell_type": "markdown",
   "metadata": {},
   "source": [
    "# Timeit and CProfile Tests\n",
    "\n",
    "What do you notice about the times?"
   ]
  },
  {
   "cell_type": "code",
   "execution_count": 15,
   "metadata": {
    "collapsed": true
   },
   "outputs": [
    {
     "name": "stdout",
     "output_type": "stream",
     "text": [
      "268 ms ± 3.08 ms per loop (mean ± std. dev. of 7 runs, 1 loop each)\n"
     ]
    }
   ],
   "source": [
    "%timeit black_scholes(nopt, price, strike, t, RISK_FREE, VOLATILITY, call, put)"
   ]
  },
  {
   "cell_type": "markdown",
   "metadata": {},
   "source": [
    "#### cProfile is slower to run than timeit"
   ]
  },
  {
   "cell_type": "code",
   "execution_count": 16,
   "metadata": {},
   "outputs": [
    {
     "name": "stdout",
     "output_type": "stream",
     "text": [
      "         600004 function calls in 0.394 seconds\n",
      "\n",
      "   Ordered by: standard name\n",
      "\n",
      "   ncalls  tottime  percall  cumtime  percall filename:lineno(function)\n",
      "   100000    0.024    0.000    0.036    0.000 <ipython-input-14-30645a7cb6d9>:3(<lambda>)\n",
      "        1    0.264    0.264    0.394    0.394 <ipython-input-14-30645a7cb6d9>:5(black_scholes)\n",
      "        1    0.000    0.000    0.394    0.394 <string>:1(<module>)\n",
      "        1    0.000    0.000    0.394    0.394 {built-in method builtins.exec}\n",
      "   200000    0.063    0.000    0.063    0.000 {built-in method math.erf}\n",
      "   100000    0.012    0.000    0.012    0.000 {built-in method math.exp}\n",
      "   100000    0.018    0.000    0.018    0.000 {built-in method math.log}\n",
      "   100000    0.012    0.000    0.012    0.000 {built-in method math.sqrt}\n",
      "        1    0.000    0.000    0.000    0.000 {method 'disable' of '_lsprof.Profiler' objects}\n",
      "\n",
      "\n"
     ]
    }
   ],
   "source": [
    "cProfile.run('black_scholes(nopt, price, strike, t, RISK_FREE, VOLATILITY, call, put)')"
   ]
  },
  {
   "cell_type": "markdown",
   "metadata": {},
   "source": [
    "# Line_Profiler tests\n",
    "\n",
    "How many times does the function items get called (hits)?\n",
    "\n",
    "%lprun -f function function(args)"
   ]
  },
  {
   "cell_type": "code",
   "execution_count": 17,
   "metadata": {
    "collapsed": true
   },
   "outputs": [
    {
     "data": {
      "text/plain": [
       "Timer unit: 1e-06 s\n",
       "\n",
       "Total time: 1.52035 s\n",
       "File: <ipython-input-14-30645a7cb6d9>\n",
       "Function: black_scholes at line 5\n",
       "\n",
       "Line #      Hits         Time  Per Hit   % Time  Line Contents\n",
       "==============================================================\n",
       "     5                                           def black_scholes ( nopt, price, strike, t, rate, vol, call, put ):\n",
       "     6         1            2      2.0      0.0      mr = -rate\n",
       "     7         1            2      2.0      0.0      sig_sig_two = vol * vol * 2\n",
       "     8                                               \n",
       "     9    100001        73589      0.7      4.8      for i in range(nopt):\n",
       "    10    100000        96998      1.0      6.4          P = float( price [i] )\n",
       "    11    100000        77356      0.8      5.1          S = strike [i]\n",
       "    12    100000        74668      0.7      4.9          T = t [i]\n",
       "    13                                                   \n",
       "    14    100000        99329      1.0      6.5          a = log(P / S)\n",
       "    15    100000        82602      0.8      5.4          b = T * mr\n",
       "    16                                                   \n",
       "    17    100000        81160      0.8      5.3          z = T * sig_sig_two\n",
       "    18    100000        83437      0.8      5.5          c = 0.25 * z\n",
       "    19    100000       124405      1.2      8.2          y = invsqrt(z)\n",
       "    20                                                   \n",
       "    21    100000       103272      1.0      6.8          w1 = (a - b + c) * y\n",
       "    22    100000        99515      1.0      6.5          w2 = (a - b - c) * y\n",
       "    23                                                   \n",
       "    24    100000       112475      1.1      7.4          d1 = 0.5 + 0.5 * erf(w1)\n",
       "    25    100000       110592      1.1      7.3          d2 = 0.5 + 0.5 * erf(w2)\n",
       "    26                                                   \n",
       "    27    100000        93548      0.9      6.2          Se = exp(b) * S\n",
       "    28                                                   \n",
       "    29    100000       106695      1.1      7.0          call [i] = P * d1 - Se * d2\n",
       "    30    100000       100705      1.0      6.6          put [i] = call [i] - P + Se"
      ]
     },
     "metadata": {},
     "output_type": "display_data"
    }
   ],
   "source": [
    "%lprun -f black_scholes black_scholes(nopt, price, strike, t, RISK_FREE, VOLATILITY, call, put)"
   ]
  }
 ],
 "metadata": {
  "kernelspec": {
   "display_name": "Python 3",
   "language": "python",
   "name": "python3"
  },
  "language_info": {
   "codemirror_mode": {
    "name": "ipython",
    "version": 3
   },
   "file_extension": ".py",
   "mimetype": "text/x-python",
   "name": "python",
   "nbconvert_exporter": "python",
   "pygments_lexer": "ipython3",
   "version": "3.6.1"
  }
 },
 "nbformat": 4,
 "nbformat_minor": 2
}
