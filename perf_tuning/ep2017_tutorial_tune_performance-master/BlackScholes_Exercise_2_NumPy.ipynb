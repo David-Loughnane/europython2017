{
 "cells": [
  {
   "cell_type": "markdown",
   "metadata": {},
   "source": [
    "# Black Scholes Exercise 2: NumPy implementation\n",
    "\n",
    "- Use cProfile and Line Profiler to look for bottlenecks and hotspots in the code"
   ]
  },
  {
   "cell_type": "code",
   "execution_count": 1,
   "metadata": {
    "collapsed": false
   },
   "outputs": [],
   "source": [
    "# Boilerplate for the example\n",
    "\n",
    "import cProfile\n",
    "import pstats\n",
    "import numpy as np\n",
    "%load_ext line_profiler\n",
    "\n",
    "try:\n",
    "    import numpy.random_intel as rnd\n",
    "except:\n",
    "    import numpy.random as rnd\n",
    "\n",
    "# make xrange available in python 3\n",
    "try:\n",
    "    xrange\n",
    "except NameError:\n",
    "    xrange = range\n",
    "\n",
    "SEED = 7777777\n",
    "S0L = 10.0\n",
    "S0H = 50.0\n",
    "XL = 10.0\n",
    "XH = 50.0\n",
    "TL = 1.0\n",
    "TH = 2.0\n",
    "RISK_FREE = 0.1\n",
    "VOLATILITY = 0.2\n",
    "TEST_ARRAY_LENGTH = 1024\n",
    "\n",
    "###############################################\n",
    "\n",
    "def gen_data(nopt):\n",
    "    return (\n",
    "        rnd.uniform(S0L, S0H, nopt),\n",
    "        rnd.uniform(XL, XH, nopt),\n",
    "        rnd.uniform(TL, TH, nopt),\n",
    "        )\n",
    "\n",
    "nopt=100000\n",
    "price, strike, t = gen_data(nopt)\n",
    "call = np.zeros(nopt, dtype=np.float64)\n",
    "put  = -np.ones(nopt, dtype=np.float64)"
   ]
  },
  {
   "cell_type": "markdown",
   "metadata": {},
   "source": [
    "# The NumPy modified naive Black Scholes algorithm (looped)\n",
    "\n",
    "- Minimally converted code from the Naive example\n",
    "- TODO: Convert the math import to numpy variants"
   ]
  },
  {
   "cell_type": "code",
   "execution_count": 13,
   "metadata": {
    "collapsed": true
   },
   "outputs": [],
   "source": [
    "from math import log, sqrt, exp, erf\n",
    "invsqrt = lambda x: 1.0/sqrt(x)\n",
    "\n",
    "def black_scholes ( nopt, price, strike, t, rate, vol, call, put ):\n",
    "    mr = -rate\n",
    "    sig_sig_two = vol * vol * 2\n",
    "    \n",
    "    for i in range(nopt):\n",
    "        P = price[i]\n",
    "        S = strike[i]\n",
    "        T = t[i]\n",
    "        \n",
    "        a = log(P / S)\n",
    "        b = T * mr\n",
    "        \n",
    "        z = T * sig_sig_two\n",
    "        c = 0.25 * z\n",
    "        y = invsqrt(z)\n",
    "        \n",
    "        w1 = (a - b + c) * y\n",
    "        w2 = (a - b - c) * y\n",
    "        \n",
    "        d1 = 0.5 + 0.5 * erf(w1)\n",
    "        d2 = 0.5 + 0.5 * erf(w2)\n",
    "        \n",
    "        Se = exp(b) * S\n",
    "        \n",
    "        call[i] = P * d1 - Se * d2\n",
    "        put[i] = call[i] - P + Se\n",
    "        #print(call,put)\n",
    "        \n",
    "import numpy as np        \n",
    "np_invsqrt = lambda x: 1.0/np.sqrt(x)\n",
    "import scipy.special as spec        \n",
    "    \n",
    "def np_black_scholes ( nopt, price, strike, t, rate, vol, call, put ):\n",
    "    mr = -rate\n",
    "    sig_sig_two = vol * vol * 2\n",
    "    \n",
    "    for i in range(nopt):\n",
    "        P = price[i]\n",
    "        S = strike[i]\n",
    "        T = t[i]\n",
    "        \n",
    "        a = np.log(P / S)\n",
    "        b = T * mr\n",
    "        \n",
    "        z = T * sig_sig_two\n",
    "        c = 0.25 * z\n",
    "        y = np_invsqrt(z)\n",
    "        \n",
    "        w1 = (a - b + c) * y\n",
    "        w2 = (a - b - c) * y\n",
    "        \n",
    "        d1 = 0.5 + 0.5 * spec.erf(w1)\n",
    "        d2 = 0.5 + 0.5 * spec.erf(w2)\n",
    "        \n",
    "        Se = np.exp(b) * S\n",
    "        \n",
    "        call[i] = P * d1 - Se * d2\n",
    "        put[i] = call[i] - P + Se\n",
    "        #print(call,put)\n"
   ]
  },
  {
   "cell_type": "markdown",
   "metadata": {},
   "source": [
    "## Run timeit, cProfile, and line_profiler to see what is happening"
   ]
  },
  {
   "cell_type": "markdown",
   "metadata": {},
   "source": [
    "Python Version"
   ]
  },
  {
   "cell_type": "code",
   "execution_count": 11,
   "metadata": {
    "collapsed": true
   },
   "outputs": [
    {
     "name": "stdout",
     "output_type": "stream",
     "text": [
      "306 ms ± 8.3 ms per loop (mean ± std. dev. of 7 runs, 1 loop each)\n"
     ]
    }
   ],
   "source": [
    "%timeit black_scholes(nopt, price, strike, t, RISK_FREE, VOLATILITY, call, put)"
   ]
  },
  {
   "cell_type": "code",
   "execution_count": 15,
   "metadata": {},
   "outputs": [
    {
     "name": "stdout",
     "output_type": "stream",
     "text": [
      "         600004 function calls in 0.438 seconds\n",
      "\n",
      "   Ordered by: standard name\n",
      "\n",
      "   ncalls  tottime  percall  cumtime  percall filename:lineno(function)\n",
      "   100000    0.026    0.000    0.038    0.000 <ipython-input-13-1782969c5f48>:2(<lambda>)\n",
      "        1    0.304    0.304    0.438    0.438 <ipython-input-13-1782969c5f48>:4(black_scholes)\n",
      "        1    0.000    0.000    0.438    0.438 <string>:1(<module>)\n",
      "        1    0.000    0.000    0.438    0.438 {built-in method builtins.exec}\n",
      "   200000    0.063    0.000    0.063    0.000 {built-in method math.erf}\n",
      "   100000    0.013    0.000    0.013    0.000 {built-in method math.exp}\n",
      "   100000    0.020    0.000    0.020    0.000 {built-in method math.log}\n",
      "   100000    0.012    0.000    0.012    0.000 {built-in method math.sqrt}\n",
      "        1    0.000    0.000    0.000    0.000 {method 'disable' of '_lsprof.Profiler' objects}\n",
      "\n",
      "\n"
     ]
    }
   ],
   "source": [
    "cProfile.run('black_scholes(nopt, price, strike, t, RISK_FREE, VOLATILITY, call, put)')"
   ]
  },
  {
   "cell_type": "code",
   "execution_count": 17,
   "metadata": {},
   "outputs": [
    {
     "data": {
      "text/plain": [
       "Timer unit: 1e-06 s\n",
       "\n",
       "Total time: 1.6443 s\n",
       "File: <ipython-input-13-1782969c5f48>\n",
       "Function: black_scholes at line 4\n",
       "\n",
       "Line #      Hits         Time  Per Hit   % Time  Line Contents\n",
       "==============================================================\n",
       "     4                                           def black_scholes ( nopt, price, strike, t, rate, vol, call, put ):\n",
       "     5         1            5      5.0      0.0      mr = -rate\n",
       "     6         1            2      2.0      0.0      sig_sig_two = vol * vol * 2\n",
       "     7                                               \n",
       "     8    100001        80425      0.8      4.9      for i in range(nopt):\n",
       "     9    100000        87204      0.9      5.3          P = price[i]\n",
       "    10    100000        92621      0.9      5.6          S = strike[i]\n",
       "    11    100000        87341      0.9      5.3          T = t[i]\n",
       "    12                                                   \n",
       "    13    100000       105922      1.1      6.4          a = log(P / S)\n",
       "    14    100000        85456      0.9      5.2          b = T * mr\n",
       "    15                                                   \n",
       "    16    100000        88877      0.9      5.4          z = T * sig_sig_two\n",
       "    17    100000        85159      0.9      5.2          c = 0.25 * z\n",
       "    18    100000       138103      1.4      8.4          y = invsqrt(z)\n",
       "    19                                                   \n",
       "    20    100000       106243      1.1      6.5          w1 = (a - b + c) * y\n",
       "    21    100000       109320      1.1      6.6          w2 = (a - b - c) * y\n",
       "    22                                                   \n",
       "    23    100000       118496      1.2      7.2          d1 = 0.5 + 0.5 * erf(w1)\n",
       "    24    100000       117606      1.2      7.2          d2 = 0.5 + 0.5 * erf(w2)\n",
       "    25                                                   \n",
       "    26    100000        97339      1.0      5.9          Se = exp(b) * S\n",
       "    27                                                   \n",
       "    28    100000       122501      1.2      7.5          call[i] = P * d1 - Se * d2\n",
       "    29    100000       121677      1.2      7.4          put[i] = call[i] - P + Se"
      ]
     },
     "metadata": {},
     "output_type": "display_data"
    }
   ],
   "source": [
    "%lprun -f black_scholes black_scholes(nopt, price, strike, t, RISK_FREE, VOLATILITY, call, put)"
   ]
  },
  {
   "cell_type": "markdown",
   "metadata": {},
   "source": [
    "Numpy Version"
   ]
  },
  {
   "cell_type": "code",
   "execution_count": 14,
   "metadata": {},
   "outputs": [
    {
     "name": "stdout",
     "output_type": "stream",
     "text": [
      "720 ms ± 8.6 ms per loop (mean ± std. dev. of 7 runs, 1 loop each)\n"
     ]
    }
   ],
   "source": [
    "%timeit np_black_scholes(nopt, price, strike, t, RISK_FREE, VOLATILITY, call, put)"
   ]
  },
  {
   "cell_type": "code",
   "execution_count": 16,
   "metadata": {},
   "outputs": [
    {
     "name": "stdout",
     "output_type": "stream",
     "text": [
      "         100004 function calls in 0.742 seconds\n",
      "\n",
      "   Ordered by: standard name\n",
      "\n",
      "   ncalls  tottime  percall  cumtime  percall filename:lineno(function)\n",
      "   100000    0.108    0.000    0.108    0.000 <ipython-input-13-1782969c5f48>:33(<lambda>)\n",
      "        1    0.635    0.635    0.742    0.742 <ipython-input-13-1782969c5f48>:36(np_black_scholes)\n",
      "        1    0.000    0.000    0.742    0.742 <string>:1(<module>)\n",
      "        1    0.000    0.000    0.742    0.742 {built-in method builtins.exec}\n",
      "        1    0.000    0.000    0.000    0.000 {method 'disable' of '_lsprof.Profiler' objects}\n",
      "\n",
      "\n"
     ]
    }
   ],
   "source": [
    "cProfile.run('np_black_scholes(nopt, price, strike, t, RISK_FREE, VOLATILITY, call, put)')"
   ]
  },
  {
   "cell_type": "code",
   "execution_count": 20,
   "metadata": {},
   "outputs": [
    {
     "data": {
      "text/plain": [
       "Timer unit: 1e-06 s\n",
       "\n",
       "Total time: 2.04363 s\n",
       "File: <ipython-input-13-1782969c5f48>\n",
       "Function: np_black_scholes at line 36\n",
       "\n",
       "Line #      Hits         Time  Per Hit   % Time  Line Contents\n",
       "==============================================================\n",
       "    36                                           def np_black_scholes ( nopt, price, strike, t, rate, vol, call, put ):\n",
       "    37         1            3      3.0      0.0      mr = -rate\n",
       "    38         1            2      2.0      0.0      sig_sig_two = vol * vol * 2\n",
       "    39                                               \n",
       "    40    100001        78158      0.8      3.8      for i in range(nopt):\n",
       "    41    100000        88134      0.9      4.3          P = price[i]\n",
       "    42    100000        87195      0.9      4.3          S = strike[i]\n",
       "    43    100000        87431      0.9      4.3          T = t[i]\n",
       "    44                                                   \n",
       "    45    100000       189266      1.9      9.3          a = np.log(P / S)\n",
       "    46    100000        87023      0.9      4.3          b = T * mr\n",
       "    47                                                   \n",
       "    48    100000        82516      0.8      4.0          z = T * sig_sig_two\n",
       "    49    100000        83959      0.8      4.1          c = 0.25 * z\n",
       "    50    100000       231797      2.3     11.3          y = np_invsqrt(z)\n",
       "    51                                                   \n",
       "    52    100000       106523      1.1      5.2          w1 = (a - b + c) * y\n",
       "    53    100000       100219      1.0      4.9          w2 = (a - b - c) * y\n",
       "    54                                                   \n",
       "    55    100000       205254      2.1     10.0          d1 = 0.5 + 0.5 * spec.erf(w1)\n",
       "    56    100000       193554      1.9      9.5          d2 = 0.5 + 0.5 * spec.erf(w2)\n",
       "    57                                                   \n",
       "    58    100000       183559      1.8      9.0          Se = np.exp(b) * S\n",
       "    59                                                   \n",
       "    60    100000       121010      1.2      5.9          call[i] = P * d1 - Se * d2\n",
       "    61    100000       118027      1.2      5.8          put[i] = call[i] - P + Se"
      ]
     },
     "metadata": {},
     "output_type": "display_data"
    }
   ],
   "source": [
    "%lprun -f np_black_scholes np_black_scholes(nopt, price, strike, t, RISK_FREE, VOLATILITY, call, put)"
   ]
  },
  {
   "cell_type": "markdown",
   "metadata": {},
   "source": [
    "## _Why does this example take longer, even with performance libraries?_"
   ]
  },
  {
   "cell_type": "markdown",
   "metadata": {},
   "source": [
    "When using NumPy, we need to unloop the function and utilize NumPy Arrays to achieve vectorization.  \n",
    "Notice the Below function removes the loop, but now passes in the strike, price, and t as an _entire_ array"
   ]
  },
  {
   "cell_type": "code",
   "execution_count": 27,
   "metadata": {
    "collapsed": true
   },
   "outputs": [],
   "source": [
    "def vec_black_scholes (nopt, price, strike, t, rate, vol ):\n",
    "    mr = -rate\n",
    "    sig_sig_two = vol * vol * 2\n",
    "\n",
    "    P = price\n",
    "    S = strike\n",
    "    T = t\n",
    "\n",
    "    a = np.log(P / S)\n",
    "    b = T * mr\n",
    "\n",
    "    z = T * sig_sig_two\n",
    "    c = 0.25 * z\n",
    "    y = np_invsqrt(z)\n",
    "\n",
    "    w1 = (a - b + c) * y\n",
    "    w2 = (a - b - c) * y\n",
    "\n",
    "    d1 = 0.5 + 0.5 * spec.erf(w1)\n",
    "    d2 = 0.5 + 0.5 * spec.erf(w2)\n",
    "\n",
    "    Se = np.exp(b) * S\n",
    "\n",
    "    call = P * d1 - Se * d2\n",
    "    put = call - P + Se\n",
    "    \n",
    "    return (call, put)"
   ]
  },
  {
   "cell_type": "markdown",
   "metadata": {},
   "source": [
    "## Run timeit, cProfile, and line_profiler to see what is happening"
   ]
  },
  {
   "cell_type": "code",
   "execution_count": 28,
   "metadata": {
    "collapsed": true
   },
   "outputs": [
    {
     "name": "stdout",
     "output_type": "stream",
     "text": [
      "7.82 ms ± 177 µs per loop (mean ± std. dev. of 7 runs, 100 loops each)\n"
     ]
    }
   ],
   "source": [
    "%timeit vec_black_scholes(nopt, price, strike, t, RISK_FREE, VOLATILITY)"
   ]
  },
  {
   "cell_type": "code",
   "execution_count": 30,
   "metadata": {},
   "outputs": [
    {
     "name": "stdout",
     "output_type": "stream",
     "text": [
      "         5 function calls in 0.009 seconds\n",
      "\n",
      "   Ordered by: standard name\n",
      "\n",
      "   ncalls  tottime  percall  cumtime  percall filename:lineno(function)\n",
      "        1    0.001    0.001    0.001    0.001 <ipython-input-13-1782969c5f48>:33(<lambda>)\n",
      "        1    0.008    0.008    0.009    0.009 <ipython-input-27-87e3027d4e67>:1(vec_black_scholes)\n",
      "        1    0.000    0.000    0.009    0.009 <string>:1(<module>)\n",
      "        1    0.000    0.000    0.009    0.009 {built-in method builtins.exec}\n",
      "        1    0.000    0.000    0.000    0.000 {method 'disable' of '_lsprof.Profiler' objects}\n",
      "\n",
      "\n"
     ]
    }
   ],
   "source": [
    "cProfile.run('vec_black_scholes(nopt, price, strike, t, RISK_FREE, VOLATILITY)')"
   ]
  },
  {
   "cell_type": "code",
   "execution_count": 31,
   "metadata": {},
   "outputs": [
    {
     "data": {
      "text/plain": [
       "Timer unit: 1e-06 s\n",
       "\n",
       "Total time: 0.008656 s\n",
       "File: <ipython-input-27-87e3027d4e67>\n",
       "Function: vec_black_scholes at line 1\n",
       "\n",
       "Line #      Hits         Time  Per Hit   % Time  Line Contents\n",
       "==============================================================\n",
       "     1                                           def vec_black_scholes (nopt, price, strike, t, rate, vol ):\n",
       "     2         1            2      2.0      0.0      mr = -rate\n",
       "     3         1            2      2.0      0.0      sig_sig_two = vol * vol * 2\n",
       "     4                                           \n",
       "     5         1            1      1.0      0.0      P = price\n",
       "     6         1            0      0.0      0.0      S = strike\n",
       "     7         1            1      1.0      0.0      T = t\n",
       "     8                                           \n",
       "     9         1         1486   1486.0     17.2      a = np.log(P / S)\n",
       "    10         1          114    114.0      1.3      b = T * mr\n",
       "    11                                           \n",
       "    12         1           97     97.0      1.1      z = T * sig_sig_two\n",
       "    13         1           97     97.0      1.1      c = 0.25 * z\n",
       "    14         1          521    521.0      6.0      y = np_invsqrt(z)\n",
       "    15                                           \n",
       "    16         1          420    420.0      4.9      w1 = (a - b + c) * y\n",
       "    17         1          360    360.0      4.2      w2 = (a - b - c) * y\n",
       "    18                                           \n",
       "    19         1         2094   2094.0     24.2      d1 = 0.5 + 0.5 * spec.erf(w1)\n",
       "    20         1         2116   2116.0     24.4      d2 = 0.5 + 0.5 * spec.erf(w2)\n",
       "    21                                           \n",
       "    22         1          819    819.0      9.5      Se = np.exp(b) * S\n",
       "    23                                           \n",
       "    24         1          357    357.0      4.1      call = P * d1 - Se * d2\n",
       "    25         1          168    168.0      1.9      put = call - P + Se\n",
       "    26                                               \n",
       "    27         1            1      1.0      0.0      return (call, put)"
      ]
     },
     "metadata": {},
     "output_type": "display_data"
    }
   ],
   "source": [
    "%lprun -f vec_black_scholes vec_black_scholes(nopt, price, strike, t, RISK_FREE, VOLATILITY)"
   ]
  },
  {
   "cell_type": "code",
   "execution_count": null,
   "metadata": {},
   "outputs": [],
   "source": []
  }
 ],
 "metadata": {
  "kernelspec": {
   "display_name": "Python 3",
   "language": "python",
   "name": "python3"
  },
  "language_info": {
   "codemirror_mode": {
    "name": "ipython",
    "version": 3
   },
   "file_extension": ".py",
   "mimetype": "text/x-python",
   "name": "python",
   "nbconvert_exporter": "python",
   "pygments_lexer": "ipython3",
   "version": "3.6.1"
  }
 },
 "nbformat": 4,
 "nbformat_minor": 2
}
