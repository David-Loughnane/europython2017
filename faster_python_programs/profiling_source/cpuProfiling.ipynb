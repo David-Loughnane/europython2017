{
 "cells": [
  {
   "cell_type": "code",
   "execution_count": 1,
   "metadata": {},
   "outputs": [],
   "source": [
    "def add(a,b):\n",
    "    return a + b"
   ]
  },
  {
   "cell_type": "code",
   "execution_count": 2,
   "metadata": {},
   "outputs": [
    {
     "data": {
      "text/plain": [
       "9"
      ]
     },
     "execution_count": 2,
     "metadata": {},
     "output_type": "execute_result"
    }
   ],
   "source": [
    "add(4, 5)"
   ]
  },
  {
   "cell_type": "markdown",
   "metadata": {},
   "source": [
    "We can use command line commands in jupyter"
   ]
  },
  {
   "cell_type": "code",
   "execution_count": 3,
   "metadata": {},
   "outputs": [
    {
     "name": "stdout",
     "output_type": "stream",
     "text": [
      "Profiling.ipynb  \u001b[34malgorithms\u001b[m\u001b[m/      \u001b[34mmeasuring\u001b[m\u001b[m/\r\n",
      "Untitled.ipynb   \u001b[34mcaching\u001b[m\u001b[m/         \u001b[34mpi\u001b[m\u001b[m/\r\n"
     ]
    }
   ],
   "source": [
    "ls"
   ]
  },
  {
   "cell_type": "code",
   "execution_count": 4,
   "metadata": {},
   "outputs": [
    {
     "name": "stdout",
     "output_type": "stream",
     "text": [
      "/Users/davidloughnane/Documents/training/europython2017/faster_python_programs/profiling_source/measuring\n"
     ]
    }
   ],
   "source": [
    "cd measuring/"
   ]
  },
  {
   "cell_type": "markdown",
   "metadata": {},
   "source": [
    "Loads code"
   ]
  },
  {
   "cell_type": "markdown",
   "metadata": {},
   "source": [
    "Once its loaded, shift+enter again to execute the code"
   ]
  },
  {
   "cell_type": "code",
   "execution_count": 6,
   "metadata": {},
   "outputs": [],
   "source": [
    "# %load profile_me.py\n",
    "# file profile_me.py\n",
    "\n",
    "\"\"\"Example to be profiled.\n",
    "\"\"\"\n",
    "import sys\n",
    "import time\n",
    "\n",
    "if sys.version_info.major < 3:\n",
    "    range = xrange\n",
    "\n",
    "\n",
    "def fast():\n",
    "    \"\"\"Wait 0.001 seconds.\n",
    "    \"\"\"\n",
    "    time.sleep(1e-3)\n",
    "\n",
    "\n",
    "def slow():\n",
    "    \"\"\"Wait 0.1 seconds.\n",
    "    \"\"\"\n",
    "    time.sleep(0.1)\n",
    "\n",
    "\n",
    "def use_fast():\n",
    "    \"\"\"Call `fast` 100 times.\n",
    "    \"\"\"\n",
    "    for _ in range(100):\n",
    "        fast()\n",
    "\n",
    "\n",
    "def use_slow():\n",
    "    \"\"\"Call `slow` 100 times.\n",
    "    \"\"\"\n",
    "    for _ in range(100):\n",
    "        slow()\n",
    "\n",
    "\n",
    "if __name__ == '__main__':\n",
    "    use_fast()\n",
    "    use_slow()\n"
   ]
  },
  {
   "cell_type": "markdown",
   "metadata": {},
   "source": [
    "cProfile is written in C, less overhead"
   ]
  },
  {
   "cell_type": "code",
   "execution_count": 8,
   "metadata": {},
   "outputs": [],
   "source": [
    "import cProfile"
   ]
  },
  {
   "cell_type": "code",
   "execution_count": 9,
   "metadata": {},
   "outputs": [],
   "source": [
    "profiler = cProfile.Profile()"
   ]
  },
  {
   "cell_type": "code",
   "execution_count": 12,
   "metadata": {},
   "outputs": [],
   "source": [
    "profiler.runcall(use_fast)"
   ]
  },
  {
   "cell_type": "code",
   "execution_count": 14,
   "metadata": {},
   "outputs": [
    {
     "name": "stdout",
     "output_type": "stream",
     "text": [
      "         204 function calls in 0.130 seconds\n",
      "\n",
      "   Ordered by: standard name\n",
      "\n",
      "   ncalls  tottime  percall  cumtime  percall filename:lineno(function)\n",
      "      100    0.001    0.000    0.130    0.001 <ipython-input-6-31b8b4df29c5>:13(fast)\n",
      "        1    0.000    0.000    0.130    0.130 <ipython-input-6-31b8b4df29c5>:25(use_fast)\n",
      "        1    0.000    0.000    0.000    0.000 {built-in method builtins.exec}\n",
      "      100    0.129    0.001    0.129    0.001 {built-in method time.sleep}\n",
      "        2    0.000    0.000    0.000    0.000 {method 'disable' of '_lsprof.Profiler' objects}\n",
      "\n",
      "\n"
     ]
    }
   ],
   "source": [
    "profiler.print_stats()"
   ]
  },
  {
   "cell_type": "code",
   "execution_count": 15,
   "metadata": {},
   "outputs": [],
   "source": [
    "profiler.runcall(use_slow)"
   ]
  },
  {
   "cell_type": "code",
   "execution_count": 16,
   "metadata": {},
   "outputs": [
    {
     "name": "stdout",
     "output_type": "stream",
     "text": [
      "         406 function calls in 10.361 seconds\n",
      "\n",
      "   Ordered by: standard name\n",
      "\n",
      "   ncalls  tottime  percall  cumtime  percall filename:lineno(function)\n",
      "      100    0.001    0.000    0.130    0.001 <ipython-input-6-31b8b4df29c5>:13(fast)\n",
      "      100    0.001    0.000   10.230    0.102 <ipython-input-6-31b8b4df29c5>:19(slow)\n",
      "        1    0.000    0.000    0.130    0.130 <ipython-input-6-31b8b4df29c5>:25(use_fast)\n",
      "        1    0.001    0.001   10.231   10.231 <ipython-input-6-31b8b4df29c5>:32(use_slow)\n",
      "        1    0.000    0.000    0.000    0.000 {built-in method builtins.exec}\n",
      "      200   10.358    0.052   10.358    0.052 {built-in method time.sleep}\n",
      "        3    0.000    0.000    0.000    0.000 {method 'disable' of '_lsprof.Profiler' objects}\n",
      "\n",
      "\n"
     ]
    }
   ],
   "source": [
    "profiler.print_stats()"
   ]
  },
  {
   "cell_type": "markdown",
   "metadata": {},
   "source": [
    "We can use cProfile directly too"
   ]
  },
  {
   "cell_type": "code",
   "execution_count": 17,
   "metadata": {},
   "outputs": [
    {
     "name": "stdout",
     "output_type": "stream",
     "text": [
      "         204 function calls in 0.129 seconds\n",
      "\n",
      "   Ordered by: standard name\n",
      "\n",
      "   ncalls  tottime  percall  cumtime  percall filename:lineno(function)\n",
      "      100    0.000    0.000    0.129    0.001 <ipython-input-6-31b8b4df29c5>:13(fast)\n",
      "        1    0.000    0.000    0.129    0.129 <ipython-input-6-31b8b4df29c5>:25(use_fast)\n",
      "        1    0.000    0.000    0.129    0.129 <string>:1(<module>)\n",
      "        1    0.000    0.000    0.129    0.129 {built-in method builtins.exec}\n",
      "      100    0.128    0.001    0.128    0.001 {built-in method time.sleep}\n",
      "        1    0.000    0.000    0.000    0.000 {method 'disable' of '_lsprof.Profiler' objects}\n",
      "\n",
      "\n"
     ]
    }
   ],
   "source": [
    "cProfile.run('use_fast()')"
   ]
  },
  {
   "cell_type": "markdown",
   "metadata": {},
   "source": [
    "Save results in a stats file"
   ]
  },
  {
   "cell_type": "code",
   "execution_count": 19,
   "metadata": {},
   "outputs": [],
   "source": [
    "cProfile.run('use_fast()', 'fast.stats')"
   ]
  },
  {
   "cell_type": "markdown",
   "metadata": {},
   "source": [
    "Help "
   ]
  },
  {
   "cell_type": "code",
   "execution_count": 20,
   "metadata": {},
   "outputs": [
    {
     "data": {
      "text/plain": [
       "\u001b[0;31mDocstring:\u001b[0m\n",
       "Run a statement through the python code profiler.\n",
       "\n",
       "Usage, in line mode:\n",
       "  %prun [options] statement\n",
       "\n",
       "Usage, in cell mode:\n",
       "  %%prun [options] [statement]\n",
       "  code...\n",
       "  code...\n",
       "\n",
       "In cell mode, the additional code lines are appended to the (possibly\n",
       "empty) statement in the first line.  Cell mode allows you to easily\n",
       "profile multiline blocks without having to put them in a separate\n",
       "function.\n",
       "\n",
       "The given statement (which doesn't require quote marks) is run via the\n",
       "python profiler in a manner similar to the profile.run() function.\n",
       "Namespaces are internally managed to work correctly; profile.run\n",
       "cannot be used in IPython because it makes certain assumptions about\n",
       "namespaces which do not hold under IPython.\n",
       "\n",
       "Options:\n",
       "\n",
       "-l <limit>\n",
       "  you can place restrictions on what or how much of the\n",
       "  profile gets printed. The limit value can be:\n",
       "\n",
       "     * A string: only information for function names containing this string\n",
       "       is printed.\n",
       "\n",
       "     * An integer: only these many lines are printed.\n",
       "\n",
       "     * A float (between 0 and 1): this fraction of the report is printed\n",
       "       (for example, use a limit of 0.4 to see the topmost 40% only).\n",
       "\n",
       "  You can combine several limits with repeated use of the option. For\n",
       "  example, ``-l __init__ -l 5`` will print only the topmost 5 lines of\n",
       "  information about class constructors.\n",
       "\n",
       "-r\n",
       "  return the pstats.Stats object generated by the profiling. This\n",
       "  object has all the information about the profile in it, and you can\n",
       "  later use it for further analysis or in other functions.\n",
       "\n",
       "-s <key>\n",
       "  sort profile by given key. You can provide more than one key\n",
       "  by using the option several times: '-s key1 -s key2 -s key3...'. The\n",
       "  default sorting key is 'time'.\n",
       "\n",
       "  The following is copied verbatim from the profile documentation\n",
       "  referenced below:\n",
       "\n",
       "  When more than one key is provided, additional keys are used as\n",
       "  secondary criteria when the there is equality in all keys selected\n",
       "  before them.\n",
       "\n",
       "  Abbreviations can be used for any key names, as long as the\n",
       "  abbreviation is unambiguous.  The following are the keys currently\n",
       "  defined:\n",
       "\n",
       "  ============  =====================\n",
       "  Valid Arg     Meaning\n",
       "  ============  =====================\n",
       "  \"calls\"       call count\n",
       "  \"cumulative\"  cumulative time\n",
       "  \"file\"        file name\n",
       "  \"module\"      file name\n",
       "  \"pcalls\"      primitive call count\n",
       "  \"line\"        line number\n",
       "  \"name\"        function name\n",
       "  \"nfl\"         name/file/line\n",
       "  \"stdname\"     standard name\n",
       "  \"time\"        internal time\n",
       "  ============  =====================\n",
       "\n",
       "  Note that all sorts on statistics are in descending order (placing\n",
       "  most time consuming items first), where as name, file, and line number\n",
       "  searches are in ascending order (i.e., alphabetical). The subtle\n",
       "  distinction between \"nfl\" and \"stdname\" is that the standard name is a\n",
       "  sort of the name as printed, which means that the embedded line\n",
       "  numbers get compared in an odd way.  For example, lines 3, 20, and 40\n",
       "  would (if the file names were the same) appear in the string order\n",
       "  \"20\" \"3\" and \"40\".  In contrast, \"nfl\" does a numeric compare of the\n",
       "  line numbers.  In fact, sort_stats(\"nfl\") is the same as\n",
       "  sort_stats(\"name\", \"file\", \"line\").\n",
       "\n",
       "-T <filename>\n",
       "  save profile results as shown on screen to a text\n",
       "  file. The profile is still shown on screen.\n",
       "\n",
       "-D <filename>\n",
       "  save (via dump_stats) profile statistics to given\n",
       "  filename. This data is in a format understood by the pstats module, and\n",
       "  is generated by a call to the dump_stats() method of profile\n",
       "  objects. The profile is still shown on screen.\n",
       "\n",
       "-q\n",
       "  suppress output to the pager.  Best used with -T and/or -D above.\n",
       "\n",
       "If you want to run complete programs under the profiler's control, use\n",
       "``%run -p [prof_opts] filename.py [args to program]`` where prof_opts\n",
       "contains profiler specific options as described here.\n",
       "\n",
       "You can read the complete documentation for the profile module with::\n",
       "\n",
       "  In [1]: import profile; profile.help()\n",
       "\u001b[0;31mFile:\u001b[0m      ~/anaconda3/lib/python3.6/site-packages/IPython/core/magics/execution.py\n"
      ]
     },
     "metadata": {},
     "output_type": "display_data"
    }
   ],
   "source": [
    "%prun?"
   ]
  },
  {
   "cell_type": "code",
   "execution_count": 21,
   "metadata": {},
   "outputs": [
    {
     "name": "stdout",
     "output_type": "stream",
     "text": [
      " "
     ]
    },
    {
     "data": {
      "text/plain": [
       "         204 function calls in 0.127 seconds\n",
       "\n",
       "   Ordered by: internal time\n",
       "\n",
       "   ncalls  tottime  percall  cumtime  percall filename:lineno(function)\n",
       "      100    0.126    0.001    0.126    0.001 {built-in method time.sleep}\n",
       "      100    0.001    0.000    0.127    0.001 <ipython-input-6-31b8b4df29c5>:13(fast)\n",
       "        1    0.000    0.000    0.127    0.127 <ipython-input-6-31b8b4df29c5>:25(use_fast)\n",
       "        1    0.000    0.000    0.127    0.127 {built-in method builtins.exec}\n",
       "        1    0.000    0.000    0.127    0.127 <string>:1(<module>)\n",
       "        1    0.000    0.000    0.000    0.000 {method 'disable' of '_lsprof.Profiler' objects}"
      ]
     },
     "metadata": {},
     "output_type": "display_data"
    }
   ],
   "source": [
    "%prun use_fast()"
   ]
  },
  {
   "cell_type": "markdown",
   "metadata": {},
   "source": [
    "2 % signs applies the magic on the whole cell, a single % only lasts for a line"
   ]
  },
  {
   "cell_type": "code",
   "execution_count": 23,
   "metadata": {},
   "outputs": [
    {
     "name": "stdout",
     "output_type": "stream",
     "text": [
      " "
     ]
    }
   ],
   "source": [
    "stats = %%prun -r -q use_fast()"
   ]
  },
  {
   "cell_type": "markdown",
   "metadata": {},
   "source": [
    "3 different methods to measure time, depending on the OS you'll see different results"
   ]
  },
  {
   "cell_type": "code",
   "execution_count": 28,
   "metadata": {},
   "outputs": [],
   "source": [
    "# %load clock_check.py\n",
    "# file: measuring/clock_check.py\n",
    "\n",
    "\"\"\"Checking different timing functions.\n",
    "\"\"\"\n",
    "\n",
    "from __future__ import print_function\n",
    "\n",
    "import os\n",
    "import sys\n",
    "import time\n",
    "import timeit\n",
    "\n",
    "\n",
    "if sys.version_info.major < 3:\n",
    "    range = xrange\n",
    "\n",
    "\n",
    "def clock_check(duration=1):\n",
    "    \"\"\"Check the measured time with different methods.\n",
    "    \"\"\"\n",
    "    start_os_time0 = os.times()[0]\n",
    "    start_time_clock = time.clock()\n",
    "    start_default_timer = timeit.default_timer()\n",
    "    for _ in range(int(1e6)):\n",
    "        1 + 1\n",
    "    time.sleep(duration)\n",
    "    durtation_os_time0 = os.times()[0] - start_os_time0\n",
    "    durtation_time_clock = time.clock() - start_time_clock\n",
    "    durtation_default_timer = timeit.default_timer() - start_default_timer\n",
    "    print('durtation_os_time0:     ', durtation_os_time0)\n",
    "    print('durtation_time_clock:   ', durtation_time_clock)\n",
    "    print('durtation_default_timer:', durtation_default_timer)\n",
    "\n",
    "\n",
    "if __name__ == '__main__':\n",
    "    clock_check()\n"
   ]
  },
  {
   "cell_type": "code",
   "execution_count": 39,
   "metadata": {},
   "outputs": [
    {
     "name": "stdout",
     "output_type": "stream",
     "text": [
      "         7 function calls in 5.423 seconds\n",
      "\n",
      "   Ordered by: standard name\n",
      "\n",
      "   ncalls  tottime  percall  cumtime  percall filename:lineno(function)\n",
      "        1    0.000    0.000    2.002    2.002 <ipython-input-39-d2afec7be092>:26(sleep)\n",
      "        1    3.421    3.421    3.421    3.421 <ipython-input-39-d2afec7be092>:32(count)\n",
      "        1    0.000    0.000    5.423    5.423 <ipython-input-39-d2afec7be092>:39(test)\n",
      "        1    0.000    0.000    5.423    5.423 <string>:1(<module>)\n",
      "        1    0.000    0.000    5.423    5.423 {built-in method builtins.exec}\n",
      "        1    2.002    2.002    2.002    2.002 {built-in method time.sleep}\n",
      "        1    0.000    0.000    0.000    0.000 {method 'disable' of '_lsprof.Profiler' objects}\n",
      "\n",
      "\n",
      "         7 function calls in 3.275 seconds\n",
      "\n",
      "   Ordered by: standard name\n",
      "\n",
      "   ncalls  tottime  percall  cumtime  percall filename:lineno(function)\n",
      "        1    0.000    0.000    0.002    0.002 <ipython-input-39-d2afec7be092>:26(sleep)\n",
      "        1    3.272    3.272    3.272    3.272 <ipython-input-39-d2afec7be092>:32(count)\n",
      "        1    0.000    0.000    3.274    3.274 <ipython-input-39-d2afec7be092>:39(test)\n",
      "        1    0.000    0.000    3.274    3.274 <string>:1(<module>)\n",
      "        1    0.000    0.000    3.275    3.275 {built-in method builtins.exec}\n",
      "        1    0.002    0.002    0.002    0.002 {built-in method time.sleep}\n",
      "        1    0.000    0.000    0.000    0.000 {method 'disable' of '_lsprof.Profiler' objects}\n",
      "\n",
      "\n"
     ]
    }
   ],
   "source": [
    "# %load cpu_time.py\n",
    "# file: cpu_time.py\n",
    "\n",
    "\"\"\"Measuring CPU time instead of wall clock time.\n",
    "\"\"\"\n",
    "\n",
    "import cProfile\n",
    "import os\n",
    "import sys\n",
    "import time\n",
    "\n",
    "# Make it work with Python 2 and Python 3.\n",
    "if sys.version_info.major < 3:\n",
    "    range = xrange\n",
    "\n",
    "\n",
    "def cpu_time():\n",
    "    \"\"\"Function for cpu time. Os dependent.\n",
    "    \"\"\"\n",
    "    if sys.platform == 'win32':\n",
    "        return os.times()[0]\n",
    "    else:\n",
    "        return time.clock()\n",
    "\n",
    "\n",
    "def sleep():\n",
    "    \"\"\"Wait 2 seconds.\n",
    "    \"\"\"\n",
    "    time.sleep(2)\n",
    "\n",
    "\n",
    "def count():\n",
    "    \"\"\"100 million loops.\n",
    "    \"\"\"\n",
    "    for _ in range(int(1e8)):\n",
    "        1 + 1\n",
    "\n",
    "\n",
    "def test():\n",
    "    \"\"\"Run functions\n",
    "    \"\"\"\n",
    "    sleep()\n",
    "    count()\n",
    "\n",
    "\n",
    "def profile():\n",
    "    \"\"\"Profile with wall clock and cpu time.\n",
    "    \"\"\"\n",
    "    profiler = cProfile.Profile()\n",
    "    profiler.run('test()')\n",
    "    profiler.print_stats()\n",
    "\n",
    "    profiler = cProfile.Profile(cpu_time)\n",
    "    profiler.run('test()')\n",
    "    profiler.print_stats()\n",
    "\n",
    "if __name__ == '__main__':\n",
    "    profile()\n"
   ]
  },
  {
   "cell_type": "code",
   "execution_count": 31,
   "metadata": {},
   "outputs": [
    {
     "data": {
      "text/plain": [
       "'/Users/davidloughnane/Documents/training/europython2017/faster_python_programs/profiling_source/measuring'"
      ]
     },
     "execution_count": 31,
     "metadata": {},
     "output_type": "execute_result"
    }
   ],
   "source": [
    "pwd"
   ]
  },
  {
   "cell_type": "code",
   "execution_count": 32,
   "metadata": {},
   "outputs": [
    {
     "name": "stdout",
     "output_type": "stream",
     "text": [
      "/Users/davidloughnane/Documents/training/europython2017/faster_python_programs/profiling_source/pi\n"
     ]
    }
   ],
   "source": [
    "cd ../pi/"
   ]
  },
  {
   "cell_type": "code",
   "execution_count": 37,
   "metadata": {},
   "outputs": [
    {
     "name": "stdout",
     "output_type": "stream",
     "text": [
      "pi: 3.142344\n"
     ]
    }
   ],
   "source": [
    "# %load simple_pi.py\n",
    "# file: simple_pi.py\n",
    "\n",
    "\"\"\"Calculating pi with Monte Carlo.\n",
    "\"\"\"\n",
    "\n",
    "from __future__ import print_function\n",
    "\n",
    "import math\n",
    "import random\n",
    "import sys\n",
    "\n",
    "\n",
    "if sys.version_info[0] < 3:\n",
    "    range = xrange\n",
    "\n",
    "\n",
    "def pi_plain(total):\n",
    "    \"\"\"Calculate pi with `total` hits.\n",
    "    \"\"\"\n",
    "    count_inside = 0\n",
    "    for _ in range(total):\n",
    "        x = random.random()\n",
    "        y = random.random()\n",
    "        dist = math.sqrt(x * x + y * y)\n",
    "        if dist < 1:\n",
    "            count_inside += 1\n",
    "    return 4.0 * count_inside / total\n",
    "\n",
    "if __name__ == '__main__':\n",
    "\n",
    "    def test():\n",
    "        \"\"\"Check if it works.\n",
    "        \"\"\"\n",
    "        n = int(1e6)\n",
    "        print('pi:', pi_plain(n))\n",
    "\n",
    "    test()\n"
   ]
  },
  {
   "cell_type": "code",
   "execution_count": 38,
   "metadata": {},
   "outputs": [
    {
     "name": "stdout",
     "output_type": "stream",
     "text": [
      " "
     ]
    },
    {
     "data": {
      "text/plain": [
       "         3000004 function calls in 0.875 seconds\n",
       "\n",
       "   Ordered by: internal time\n",
       "\n",
       "   ncalls  tottime  percall  cumtime  percall filename:lineno(function)\n",
       "        1    0.632    0.632    0.875    0.875 <ipython-input-37-2dc86fd89f06>:18(pi_plain)\n",
       "  2000000    0.158    0.000    0.158    0.000 {method 'random' of '_random.Random' objects}\n",
       "  1000000    0.085    0.000    0.085    0.000 {built-in method math.sqrt}\n",
       "        1    0.000    0.000    0.875    0.875 {built-in method builtins.exec}\n",
       "        1    0.000    0.000    0.875    0.875 <string>:1(<module>)\n",
       "        1    0.000    0.000    0.000    0.000 {method 'disable' of '_lsprof.Profiler' objects}"
      ]
     },
     "metadata": {},
     "output_type": "display_data"
    }
   ],
   "source": [
    "%prun pi_plain(10**6)"
   ]
  },
  {
   "cell_type": "markdown",
   "metadata": {},
   "source": [
    "Should be able to use this to load an externsion to jupyter, this doesn't work (issue with url in command line version)"
   ]
  },
  {
   "cell_type": "code",
   "execution_count": 40,
   "metadata": {},
   "outputs": [],
   "source": [
    "%load_ext snakeviz"
   ]
  },
  {
   "cell_type": "code",
   "execution_count": 41,
   "metadata": {},
   "outputs": [
    {
     "name": "stdout",
     "output_type": "stream",
     "text": [
      " \n",
      "*** Profile stats marshalled to file '/var/folders/23/bcd04_q11cl1_44lzvfkzqw80000gp/T/tmpkjix6ees'. \n"
     ]
    }
   ],
   "source": [
    "%snakeviz test()"
   ]
  },
  {
   "cell_type": "markdown",
   "metadata": {},
   "source": [
    "If the standard deviation is high we may have a measurement issue"
   ]
  },
  {
   "cell_type": "code",
   "execution_count": 42,
   "metadata": {},
   "outputs": [
    {
     "name": "stdout",
     "output_type": "stream",
     "text": [
      "15 ns ± 0.109 ns per loop (mean ± std. dev. of 7 runs, 100000000 loops each)\n"
     ]
    }
   ],
   "source": [
    "%timeit 1+1"
   ]
  },
  {
   "cell_type": "markdown",
   "metadata": {},
   "source": [
    "Line profiling"
   ]
  },
  {
   "cell_type": "code",
   "execution_count": 44,
   "metadata": {},
   "outputs": [
    {
     "name": "stdout",
     "output_type": "stream",
     "text": [
      "/Users/davidloughnane/Documents/training/europython2017/faster_python_programs/profiling_source/measuring\n"
     ]
    }
   ],
   "source": [
    "cd ../measuring/"
   ]
  },
  {
   "cell_type": "code",
   "execution_count": 46,
   "metadata": {},
   "outputs": [
    {
     "ename": "TypeError",
     "evalue": "profile() takes 0 positional arguments but 1 was given",
     "output_type": "error",
     "traceback": [
      "\u001b[0;31m---------------------------------------------------------------------------\u001b[0m",
      "\u001b[0;31mTypeError\u001b[0m                                 Traceback (most recent call last)",
      "\u001b[0;32m<ipython-input-46-b20b16872447>\u001b[0m in \u001b[0;36m<module>\u001b[0;34m()\u001b[0m\n\u001b[1;32m     23\u001b[0m     \u001b[0mtime\u001b[0m\u001b[0;34m.\u001b[0m\u001b[0msleep\u001b[0m\u001b[0;34m(\u001b[0m\u001b[0;36m0.1\u001b[0m\u001b[0;34m)\u001b[0m\u001b[0;34m\u001b[0m\u001b[0m\n\u001b[1;32m     24\u001b[0m \u001b[0;34m\u001b[0m\u001b[0m\n\u001b[0;32m---> 25\u001b[0;31m \u001b[0;34m@\u001b[0m\u001b[0mprofile\u001b[0m\u001b[0;34m\u001b[0m\u001b[0m\n\u001b[0m\u001b[1;32m     26\u001b[0m \u001b[0;32mdef\u001b[0m \u001b[0muse_fast\u001b[0m\u001b[0;34m(\u001b[0m\u001b[0;34m)\u001b[0m\u001b[0;34m:\u001b[0m\u001b[0;34m\u001b[0m\u001b[0m\n\u001b[1;32m     27\u001b[0m     \"\"\"Call `fast` 100 times.\n",
      "\u001b[0;31mTypeError\u001b[0m: profile() takes 0 positional arguments but 1 was given"
     ]
    }
   ],
   "source": [
    "# %load profile_me_use_line_profiler.py\n",
    "# file profile_me_use_line_profiler.py\n",
    "\n",
    "\"\"\"Example to be profiled.\n",
    "\"\"\"\n",
    "\n",
    "import time\n",
    "import sys\n",
    "\n",
    "if sys.version_info.major < 3:\n",
    "    range = xrange\n",
    "\n",
    "\n",
    "def fast():\n",
    "    \"\"\"Wait 0.001 seconds.\n",
    "    \"\"\"\n",
    "    time.sleep(1e-3)\n",
    "\n",
    "\n",
    "def slow():\n",
    "    \"\"\"Wait 0.1 seconds.\n",
    "    \"\"\"\n",
    "    time.sleep(0.1)\n",
    "\n",
    "@profile\n",
    "def use_fast():\n",
    "    \"\"\"Call `fast` 100 times.\n",
    "    \"\"\"\n",
    "    for _ in range(100):\n",
    "        fast()\n",
    "\n",
    "@profile\n",
    "def use_slow():\n",
    "    \"\"\"Call `slow` 100 times.\n",
    "    \"\"\"\n",
    "    for _ in range(100):\n",
    "        slow()\n",
    "\n",
    "\n",
    "if __name__ == '__main__':\n",
    "    use_fast()\n",
    "    use_slow()\n"
   ]
  },
  {
   "cell_type": "code",
   "execution_count": 48,
   "metadata": {},
   "outputs": [
    {
     "ename": "TypeError",
     "evalue": "profile() takes 0 positional arguments but 1 was given",
     "output_type": "error",
     "traceback": [
      "\u001b[0;31m---------------------------------------------------------------------------\u001b[0m",
      "\u001b[0;31mTypeError\u001b[0m                                 Traceback (most recent call last)",
      "\u001b[0;32m<ipython-input-48-5a4f791719b1>\u001b[0m in \u001b[0;36m<module>\u001b[0;34m()\u001b[0m\n\u001b[1;32m      5\u001b[0m \"\"\"\n\u001b[1;32m      6\u001b[0m \u001b[0;34m\u001b[0m\u001b[0m\n\u001b[0;32m----> 7\u001b[0;31m \u001b[0;34m@\u001b[0m\u001b[0mprofile\u001b[0m\u001b[0;34m\u001b[0m\u001b[0m\n\u001b[0m\u001b[1;32m      8\u001b[0m \u001b[0;32mdef\u001b[0m \u001b[0maccumulate\u001b[0m\u001b[0;34m(\u001b[0m\u001b[0miterable\u001b[0m\u001b[0;34m)\u001b[0m\u001b[0;34m:\u001b[0m\u001b[0;34m\u001b[0m\u001b[0m\n\u001b[1;32m      9\u001b[0m     \"\"\"Accumulate the intermediate steps in summing all elements.\n",
      "\u001b[0;31mTypeError\u001b[0m: profile() takes 0 positional arguments but 1 was given"
     ]
    }
   ],
   "source": [
    "# %load accumulate.py\n",
    "# file accumulate.py\n",
    "\n",
    "\"\"\"Simple test function for line_profiler.\n",
    "\"\"\"\n",
    "\n",
    "@profile\n",
    "def accumulate(iterable):\n",
    "    \"\"\"Accumulate the intermediate steps in summing all elements.\n",
    "\n",
    "    The result is a list with the length of `iterable`.\n",
    "    The last element is the sum of all elements of `iterable`\n",
    "    >>> accumulate(range(5))\n",
    "    [0, 1, 3, 6, 10]\n",
    "    >>> accumulate(range(10))\n",
    "    [0, 1, 3, 6, 10, 15, 21, 28, 36, 45]\n",
    "    \"\"\"\n",
    "    acm = [iterable[0]]\n",
    "    for elem in iterable[1:]:\n",
    "        old_value = acm[-1]\n",
    "        new_value = old_value + elem\n",
    "        acm.append(new_value)\n",
    "    return acm\n",
    "\n",
    "\n",
    "if __name__ == '__main__':\n",
    "    accumulate(range(10))\n",
    "    accumulate(range(100))\n"
   ]
  },
  {
   "cell_type": "code",
   "execution_count": 49,
   "metadata": {},
   "outputs": [],
   "source": [
    "# %load calc.py\n",
    "#calc.py\n",
    "\n",
    "\"\"\"Simple test function for line_profiler doing some math.\n",
    "\"\"\"\n",
    "\n",
    "import math\n",
    "import sys\n",
    "\n",
    "if sys.version_info.major < 3:\n",
    "    range = xrange\n",
    "\n",
    "\n",
    "@profile\n",
    "def calc(number, loops=1000):\n",
    "    \"\"\"Do some math calculations.\n",
    "    \"\"\"\n",
    "    sqrt = math.sqrt\n",
    "    for x in range(loops):\n",
    "        x = number + 10\n",
    "        x = number * 10\n",
    "        x = number ** 10\n",
    "        x = pow(number, 10)\n",
    "        x = math.sqrt(number)\n",
    "        x = sqrt(number)\n",
    "        math.sqrt\n",
    "        sqrt\n",
    "\n",
    "if __name__ == '__main__':\n",
    "    calc(100, int(1e5))\n"
   ]
  },
  {
   "cell_type": "code",
   "execution_count": 50,
   "metadata": {},
   "outputs": [],
   "source": [
    "# %load local_ref.py\n",
    "# local_ref.py\n",
    "\n",
    "\"\"\"Testing access to local name and name referenced in another module.\n",
    "\"\"\"\n",
    "\n",
    "import math\n",
    "import sys\n",
    "\n",
    "if sys.version_info.major < 3:\n",
    "    range = xrange\n",
    "\n",
    "# If there is no decorator `profile`, make one that just calls the function,\n",
    "# i.e. does nothing.\n",
    "# This allows to call `kernprof` with and without the option `-l` without\n",
    "# commenting or un-commentimg `@profile' all the time.\n",
    "# You can add this to the builtins to make it available in the whole program.\n",
    "try:\n",
    "    @profile\n",
    "    def dummy():\n",
    "        \"\"\"Needs to be here to avoid a syntax error.\n",
    "        \"\"\"\n",
    "        pass\n",
    "except NameError:\n",
    "    def profile(func):\n",
    "        \"\"\"Will act as the decorator `profile` if it was already found.\n",
    "        \"\"\"\n",
    "        return func\n",
    "\n",
    "@profile\n",
    "def local_ref(counter):\n",
    "    \"\"\"Access local name.\n",
    "    \"\"\"\n",
    "    # make it local\n",
    "    sqrt = math.sqrt\n",
    "    for _ in range(counter):\n",
    "        sqrt\n",
    "\n",
    "@profile\n",
    "def module_ref(counter):\n",
    "    \"\"\"Access name as attribute of another module.\n",
    "    \"\"\"\n",
    "    for _ in range(counter):\n",
    "        math.sqrt\n",
    "\n",
    "\n",
    "@profile\n",
    "def test(counter):\n",
    "    \"\"\"Call both functions.\n",
    "    \"\"\"\n",
    "    local_ref(counter)\n",
    "    module_ref(counter)\n",
    "\n",
    "if __name__ == '__main__':\n",
    "    test(int(1e7))\n"
   ]
  },
  {
   "cell_type": "code",
   "execution_count": 55,
   "metadata": {},
   "outputs": [
    {
     "ename": "NameError",
     "evalue": "name 'profile' is not defined",
     "output_type": "error",
     "traceback": [
      "\u001b[0;31m---------------------------------------------------------------------------\u001b[0m",
      "\u001b[0;31mNameError\u001b[0m                                 Traceback (most recent call last)",
      "\u001b[0;32m<ipython-input-55-521870c45d72>\u001b[0m in \u001b[0;36m<module>\u001b[0;34m()\u001b[0m\n\u001b[0;32m----> 1\u001b[0;31m \u001b[0;32mdel\u001b[0m \u001b[0mprofile\u001b[0m\u001b[0;34m\u001b[0m\u001b[0m\n\u001b[0m",
      "\u001b[0;31mNameError\u001b[0m: name 'profile' is not defined"
     ]
    }
   ],
   "source": [
    "del profile"
   ]
  },
  {
   "cell_type": "code",
   "execution_count": 57,
   "metadata": {},
   "outputs": [],
   "source": [
    "%reload_ext line_profiler"
   ]
  },
  {
   "cell_type": "markdown",
   "metadata": {},
   "source": [
    "we have an issue with the cProfile instance called profile instantiated before"
   ]
  },
  {
   "cell_type": "code",
   "execution_count": 59,
   "metadata": {},
   "outputs": [
    {
     "data": {
      "text/plain": [
       "Timer unit: 1e-06 s\n",
       "\n",
       "Total time: 0.127809 s\n",
       "File: <ipython-input-46-b20b16872447>\n",
       "Function: fast at line 14\n",
       "\n",
       "Line #      Hits         Time  Per Hit   % Time  Line Contents\n",
       "==============================================================\n",
       "    14                                           def fast():\n",
       "    15                                               \"\"\"Wait 0.001 seconds.\n",
       "    16                                               \"\"\"\n",
       "    17       100       127809   1278.1    100.0      time.sleep(1e-3)\n",
       "\n",
       "Total time: 0.128933 s\n",
       "File: <ipython-input-6-31b8b4df29c5>\n",
       "Function: use_fast at line 25\n",
       "\n",
       "Line #      Hits         Time  Per Hit   % Time  Line Contents\n",
       "==============================================================\n",
       "    25                                           def use_fast():\n",
       "    26                                               \"\"\"Call `fast` 100 times.\n",
       "    27                                               \"\"\"\n",
       "    28       101          291      2.9      0.2      for _ in range(100):\n",
       "    29       100       128642   1286.4     99.8          fast()"
      ]
     },
     "metadata": {},
     "output_type": "display_data"
    }
   ],
   "source": [
    "%lprun -f use_fast -f fast use_fast()"
   ]
  },
  {
   "cell_type": "code",
   "execution_count": null,
   "metadata": {},
   "outputs": [],
   "source": []
  }
 ],
 "metadata": {
  "kernelspec": {
   "display_name": "Python 3",
   "language": "python",
   "name": "python3"
  },
  "language_info": {
   "codemirror_mode": {
    "name": "ipython",
    "version": 3
   },
   "file_extension": ".py",
   "mimetype": "text/x-python",
   "name": "python",
   "nbconvert_exporter": "python",
   "pygments_lexer": "ipython3",
   "version": "3.6.1"
  }
 },
 "nbformat": 4,
 "nbformat_minor": 2
}
