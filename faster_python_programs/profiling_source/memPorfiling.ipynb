{
 "cells": [
  {
   "cell_type": "code",
   "execution_count": 3,
   "metadata": {},
   "outputs": [],
   "source": [
    "from pympler import tracker"
   ]
  },
  {
   "cell_type": "code",
   "execution_count": 4,
   "metadata": {},
   "outputs": [],
   "source": [
    "t = tracker.SummaryTracker()"
   ]
  },
  {
   "cell_type": "markdown",
   "metadata": {},
   "source": [
    "Measure the change in memory"
   ]
  },
  {
   "cell_type": "code",
   "execution_count": 5,
   "metadata": {},
   "outputs": [
    {
     "name": "stdout",
     "output_type": "stream",
     "text": [
      "                       types |   # objects |   total size\n",
      "============================ | =========== | ============\n",
      "                <class 'list |        8286 |    779.59 KB\n",
      "                 <class 'str |        8290 |    595.66 KB\n",
      "                 <class 'int |        1735 |     47.45 KB\n",
      "   <class 'method_descriptor |          12 |    864     B\n",
      "                <class 'dict |           0 |    408     B\n",
      "             <class 'weakref |           2 |    160     B\n",
      "                <class 'code |           1 |    144     B\n",
      "       function (store_info) |           1 |    136     B\n",
      "                <class 'cell |           2 |     96     B\n",
      "  <class 'wrapper_descriptor |           1 |     80     B\n",
      "   <class 'member_descriptor |           1 |     72     B\n",
      "               <class 'bytes |           1 |     69     B\n",
      "    <class '_ast.Interactive |           1 |     56     B\n",
      "           <class '_ast.Expr |           1 |     56     B\n",
      "        <class '_thread.lock |           1 |     40     B\n"
     ]
    }
   ],
   "source": [
    "t.print_diff()"
   ]
  },
  {
   "cell_type": "markdown",
   "metadata": {},
   "source": [
    "If you run again it will be approx zero"
   ]
  },
  {
   "cell_type": "code",
   "execution_count": 6,
   "metadata": {},
   "outputs": [
    {
     "name": "stdout",
     "output_type": "stream",
     "text": [
      "                               types |   # objects |   total size\n",
      "==================================== | =========== | ============\n",
      "                        <class 'dict |           1 |      1.55 KB\n",
      "                         <class 'str |           7 |    495     B\n",
      "                       <class 'tuple |           5 |    344     B\n",
      "                        <class 'list |           4 |    320     B\n",
      "                     <class 'weakref |           4 |    320     B\n",
      "  <class 'builtin_function_or_method |           3 |    216     B\n",
      "              <class 'sqlite3.Cursor |           1 |    112     B\n",
      "                       <class 'bytes |           1 |     97     B\n",
      "     <class 'zmq.sugar.socket.Socket |           1 |     96     B\n",
      "               <class 'list_iterator |           1 |     56     B\n",
      "                       <class 'float |           1 |     24     B\n",
      "                         <class 'int |          -1 |    -28     B\n",
      "                <class '_thread.lock |          -1 |    -40     B\n",
      "                      <class 'method |          -1 |    -64     B\n"
     ]
    }
   ],
   "source": [
    "t.print_diff()"
   ]
  },
  {
   "cell_type": "markdown",
   "metadata": {},
   "source": [
    "Lets instantiate a large object"
   ]
  },
  {
   "cell_type": "code",
   "execution_count": 7,
   "metadata": {},
   "outputs": [],
   "source": [
    "big = list(range(10**6))"
   ]
  },
  {
   "cell_type": "code",
   "execution_count": 8,
   "metadata": {},
   "outputs": [
    {
     "name": "stdout",
     "output_type": "stream",
     "text": [
      "                  types |   # objects |   total size\n",
      "======================= | =========== | ============\n",
      "            <class 'int |      999809 |     26.70 MB\n",
      "           <class 'list |           5 |      8.58 MB\n",
      "            <class 'str |           9 |    639     B\n",
      "          <class 'bytes |           2 |    194     B\n",
      "          <class 'tuple |           2 |    160     B\n",
      "        <class 'weakref |           2 |    160     B\n",
      "  <class 'list_iterator |           1 |     56     B\n",
      "          <class 'float |           2 |     48     B\n",
      "           <class 'dict |           0 |   -536     B\n"
     ]
    }
   ],
   "source": [
    "t.print_diff()"
   ]
  },
  {
   "cell_type": "markdown",
   "metadata": {},
   "source": [
    "Above can see the number of int objcets, 999809, is less than 10**6. From below we can see that int object from about -1000 to +1000 are pointers to those ints in memory, not objects are created. "
   ]
  },
  {
   "cell_type": "code",
   "execution_count": 9,
   "metadata": {},
   "outputs": [],
   "source": [
    "i1 = 2\n",
    "i2 = 2"
   ]
  },
  {
   "cell_type": "code",
   "execution_count": 11,
   "metadata": {},
   "outputs": [
    {
     "data": {
      "text/plain": [
       "True"
      ]
     },
     "execution_count": 11,
     "metadata": {},
     "output_type": "execute_result"
    }
   ],
   "source": [
    "i1 is i2"
   ]
  },
  {
   "cell_type": "code",
   "execution_count": 12,
   "metadata": {},
   "outputs": [],
   "source": [
    "i3 = 1000\n",
    "i4 = 1000"
   ]
  },
  {
   "cell_type": "code",
   "execution_count": 13,
   "metadata": {},
   "outputs": [
    {
     "data": {
      "text/plain": [
       "False"
      ]
     },
     "execution_count": 13,
     "metadata": {},
     "output_type": "execute_result"
    }
   ],
   "source": [
    "i3 is i4"
   ]
  },
  {
   "cell_type": "code",
   "execution_count": 15,
   "metadata": {},
   "outputs": [
    {
     "data": {
      "text/plain": [
       "'/Users/davidloughnane/Documents/training/europython2017/faster_python_programs/profiling_source'"
      ]
     },
     "execution_count": 15,
     "metadata": {},
     "output_type": "execute_result"
    }
   ],
   "source": [
    "pwd"
   ]
  },
  {
   "cell_type": "code",
   "execution_count": 16,
   "metadata": {},
   "outputs": [
    {
     "name": "stdout",
     "output_type": "stream",
     "text": [
      "/Users/davidloughnane/Documents/training/europython2017/faster_python_programs/profiling_source/measuring\n"
     ]
    }
   ],
   "source": [
    "cd measuring/"
   ]
  },
  {
   "cell_type": "code",
   "execution_count": 17,
   "metadata": {},
   "outputs": [
    {
     "name": "stdout",
     "output_type": "stream",
     "text": [
      "accumulate.py                         \u001b[31mmemory_size_hpy.py\u001b[m\u001b[m*\r\n",
      "accumulate.py.lprof                   \u001b[31mmemory_size_pympler.py\u001b[m\u001b[m*\r\n",
      "calc.py                               \u001b[31mprofile_me.py\u001b[m\u001b[m*\r\n",
      "calc.py.lprof                         profile_me.py.prof\r\n",
      "clock_check.py                        profile_me_use_line_profiler.py\r\n",
      "\u001b[31mcpu_time.py\u001b[m\u001b[m*                          profile_me_use_line_profiler.py.prof\r\n",
      "create_list.py                        \u001b[31mprofile_speed.py\u001b[m\u001b[m*\r\n",
      "fast.stats                            pympler_list_growth.py\r\n",
      "list_alloc_steps.py                   pystone2.py\r\n",
      "local_ref.py                          pystone2_3.py\r\n",
      "local_ref.py.lprof                    pystone3.py\r\n",
      "make_list_gen.py                      \u001b[31mpystone_converter.py\u001b[m\u001b[m*\r\n",
      "\u001b[31mmemory_growth_hpy.py\u001b[m\u001b[m*                 use_mem.py\r\n",
      "\u001b[31mmemory_growth_pympler.py\u001b[m\u001b[m*\r\n"
     ]
    }
   ],
   "source": [
    "ls"
   ]
  },
  {
   "cell_type": "code",
   "execution_count": 19,
   "metadata": {},
   "outputs": [
    {
     "name": "stdout",
     "output_type": "stream",
     "text": [
      "used memory {'make_big': [[\"<class 'int\", 999743, 27992804], [\"<class 'list\", 1, 9000112]]}\n"
     ]
    }
   ],
   "source": [
    "# %load memory_size_pympler.py\n",
    "# file: memory_size_pympler.py\n",
    "\n",
    "\"\"\"Measure the size of used memory with a decorator.\n",
    "\"\"\"\n",
    "\n",
    "from __future__ import print_function\n",
    "\n",
    "import functools                                                #1\n",
    "import sys\n",
    "\n",
    "if sys.version_info.major < 3:\n",
    "    range = xrange\n",
    "\n",
    "from pympler import tracker                                     #2\n",
    "\n",
    "memory = {}                                                     #3\n",
    "\n",
    "\n",
    "def measure_memory(function):                                   #4\n",
    "    \"\"\"Decorator to measure memory size.\n",
    "    \"\"\"\n",
    "\n",
    "    @functools.wraps(function)                                  #5\n",
    "    def _measure_memory(*args, **kwargs):                       #6\n",
    "        \"\"\"This replaces the function that is to be measured.\n",
    "        \"\"\"\n",
    "        measurer = tracker.SummaryTracker()                     #7\n",
    "        for _ in range(5):                                      #8\n",
    "            measurer.diff()                                     #9\n",
    "        try:\n",
    "            res = function(*args, **kwargs)                     #10\n",
    "            return res\n",
    "        finally:                                                #11\n",
    "            memory[function.__name__] = (measurer.diff())\n",
    "    return _measure_memory                                      #12\n",
    "\n",
    "\n",
    "if __name__ == '__main__':\n",
    "\n",
    "    @measure_memory                                             #13\n",
    "    def make_big(number):\n",
    "        \"\"\"Example function that makes a large list.\n",
    "        \"\"\"\n",
    "        return list(range(number))                              #14\n",
    "\n",
    "    make_big(int(1e6))                                          #15\n",
    "    print('used memory', memory)                                #16\n"
   ]
  },
  {
   "cell_type": "markdown",
   "metadata": {},
   "source": [
    "The first function creates the list, but doesn't modify global variables so the memory is not permanently altered "
   ]
  },
  {
   "cell_type": "code",
   "execution_count": 22,
   "metadata": {},
   "outputs": [
    {
     "name": "stdout",
     "output_type": "stream",
     "text": [
      "memory make_big: []\n",
      "memory grow: [[\"<class 'int\", 999743, 27992804], [\"<class 'list\", 0, 8697400]]\n"
     ]
    }
   ],
   "source": [
    "# %load memory_growth_pympler.py\n",
    "# file memory_growth_pympler.py\n",
    "\n",
    "\"\"\"Measure the memory growth during a function call.\n",
    "\"\"\"\n",
    "from __future__ import print_function\n",
    "\n",
    "import sys\n",
    "\n",
    "if sys.version_info.major < 3:\n",
    "    range = xrange\n",
    "\n",
    "from pympler import tracker                                     #1\n",
    "\n",
    "\n",
    "def check_memory_growth(function, *args, **kwargs):             #2\n",
    "    \"\"\"Measure the memory usage of `function`.\n",
    "    \"\"\"\n",
    "    measurer = tracker.SummaryTracker()                         #3\n",
    "    for _ in range(5):                                          #4\n",
    "        measurer.diff()                                         #5\n",
    "    function(*args, **kwargs)                                   #6\n",
    "    return measurer.diff()                                      #7\n",
    "\n",
    "if __name__ == '__main__':\n",
    "\n",
    "    def test():\n",
    "        \"\"\"Do some tests with different memory usage patterns.\n",
    "        \"\"\"\n",
    "\n",
    "        def make_big(number):                                   #8\n",
    "            \"\"\"Function without side effects.\n",
    "\n",
    "            It cleans up all used memory after it returns.\n",
    "            \"\"\"\n",
    "            return list(range(number))\n",
    "\n",
    "        data = []                                               #9\n",
    "\n",
    "        def grow(number):\n",
    "            \"\"\"Function with side effects on global list.\n",
    "            \"\"\"\n",
    "            for x in range(number):\n",
    "                data.append(x)                                  #10\n",
    "        size = int(1e6)\n",
    "        print('memory make_big:', check_memory_growth(make_big,\n",
    "                                                      size))     #11\n",
    "        print('memory grow:', check_memory_growth(grow, size))   #12\n",
    "\n",
    "    test()\n"
   ]
  },
  {
   "cell_type": "code",
   "execution_count": 26,
   "metadata": {},
   "outputs": [],
   "source": [
    "%matplotlib inline"
   ]
  },
  {
   "cell_type": "code",
   "execution_count": 25,
   "metadata": {},
   "outputs": [],
   "source": [
    "# %load pympler_list_growth.py\n",
    "# file: pympler_list_growth.py\n",
    "\n",
    "\"\"\"Measure the size of a list as it grows.\n",
    "\"\"\"\n",
    "from __future__ import print_function\n",
    "\n",
    "import sys\n",
    "\n",
    "from pympler.asizeof import asizeof, flatsize\n",
    "\n",
    "\n",
    "if sys.version_info.major < 3:\n",
    "    range = xrange\n",
    "\n",
    "\n",
    "def list_mem(length, size_func=flatsize):\n",
    "    \"\"\"Measure incremental memory increase of a growing list.\n",
    "    \"\"\"\n",
    "    my_list = []\n",
    "    mem = [size_func(my_list)]\n",
    "    for elem in range(length):\n",
    "        my_list.append(elem)\n",
    "        mem.append(size_func(my_list))\n",
    "    return mem\n",
    "\n",
    "\n",
    "if __name__ == '__main__':\n",
    "\n",
    "    def main():\n",
    "        \"\"\"Show plot or numbers.\n",
    "        \"\"\"\n",
    "        SIZE = 1000\n",
    "        SHOW = 20\n",
    "\n",
    "        for func in [flatsize, asizeof, sys.getsizeof]:\n",
    "            mem = list_mem(SIZE, size_func=func)\n",
    "            try:\n",
    "                from matplotlib import pylab\n",
    "                pylab.plot(mem)\n",
    "                pylab.show()\n",
    "            except ImportError:\n",
    "                print('matplotlib seems not be installed. Skipping the plot.')\n",
    "                if SIZE > SHOW:\n",
    "                    limit = SHOW // 2\n",
    "                    print(mem[:limit],\n",
    "                          '... skipping %d elements ...' % (SIZE - SHOW),\n",
    "                          end='')\n",
    "                    print(mem[-limit:])\n",
    "                else:\n",
    "                    print(mem)\n"
   ]
  },
  {
   "cell_type": "markdown",
   "metadata": {},
   "source": [
    "Memory size of list grows in steps"
   ]
  },
  {
   "cell_type": "code",
   "execution_count": 27,
   "metadata": {},
   "outputs": [
    {
     "data": {
      "image/png": "[encoded data removed]",
      "text/plain": [
       "<matplotlib.figure.Figure at 0x104782d30>"
      ]
     },
     "metadata": {},
     "output_type": "display_data"
    },
    {
     "data": {
      "image/png": "[encoded data removed]",
      "text/plain": [
       "<matplotlib.figure.Figure at 0x108bb94e0>"
      ]
     },
     "metadata": {},
     "output_type": "display_data"
    },
    {
     "data": {
      "image/png": "[encoded data removed]",
      "text/plain": [
       "<matplotlib.figure.Figure at 0x108d33cf8>"
      ]
     },
     "metadata": {},
     "output_type": "display_data"
    }
   ],
   "source": [
    "main()"
   ]
  },
  {
   "cell_type": "code",
   "execution_count": 34,
   "metadata": {},
   "outputs": [],
   "source": [
    "# %load use_mem.py\n",
    "# file: use_mem.py\n",
    "\n",
    "import random\n",
    "import sys\n",
    "\n",
    "# Make it work with Python 2 and Python 3.\n",
    "if sys.version_info.major < 3:\n",
    "    range = xrange\n",
    "\n",
    "\n",
    "#@profile\n",
    "def use_mem(numbers):\n",
    "    \"\"\"Different ways to use up memory.\n",
    "    \"\"\"\n",
    "    a = sum([x * x for x in numbers])\n",
    "    b = sum(x * x for x in numbers)\n",
    "    c = sum(x * x for x in numbers)\n",
    "    squares = [x * x for x in numbers]\n",
    "    d = sum(squares)\n",
    "    del squares\n",
    "    x = 'a' * int(1e6)\n",
    "    del x\n",
    "    return 42\n",
    "\n",
    "\n",
    "if __name__ == '__main__':\n",
    "\n",
    "    numbers = [random.random() for x in range(int(1e6))]\n",
    "    use_mem(numbers)"
   ]
  },
  {
   "cell_type": "code",
   "execution_count": 30,
   "metadata": {},
   "outputs": [],
   "source": [
    "%load_ext memory_profiler"
   ]
  },
  {
   "cell_type": "code",
   "execution_count": 36,
   "metadata": {},
   "outputs": [
    {
     "name": "stderr",
     "output_type": "stream",
     "text": [
      "UsageError: Could not find function 'use_mem.use_mem'.\n",
      "AttributeError: 'function' object has no attribute 'use_mem'\n"
     ]
    }
   ],
   "source": [
    "%mprun -f use_mem.use_mem use_mem.use_mem(numbers)"
   ]
  },
  {
   "cell_type": "code",
   "execution_count": null,
   "metadata": {},
   "outputs": [],
   "source": []
  }
 ],
 "metadata": {
  "kernelspec": {
   "display_name": "Python 3",
   "language": "python",
   "name": "python3"
  },
  "language_info": {
   "codemirror_mode": {
    "name": "ipython",
    "version": 3
   },
   "file_extension": ".py",
   "mimetype": "text/x-python",
   "name": "python",
   "nbconvert_exporter": "python",
   "pygments_lexer": "ipython3",
   "version": "3.6.1"
  }
 },
 "nbformat": 4,
 "nbformat_minor": 2
}
